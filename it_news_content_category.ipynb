{
  "nbformat": 4,
  "nbformat_minor": 0,
  "metadata": {
    "colab": {
      "name": "it_news_content_category.ipynb",
      "provenance": [],
      "collapsed_sections": []
    },
    "kernelspec": {
      "name": "python3",
      "display_name": "Python 3"
    }
  },
  "cells": [
    {
      "cell_type": "code",
      "metadata": {
        "id": "64lb59mPm_lR",
        "colab_type": "code",
        "colab": {
          "base_uri": "https://localhost:8080/",
          "height": 34
        },
        "outputId": "5e574866-5305-45b4-b2c3-fd00979f702b"
      },
      "source": [
        "from google.colab import drive\n",
        "drive.mount('/content/drive')"
      ],
      "execution_count": null,
      "outputs": [
        {
          "output_type": "stream",
          "text": [
            "Drive already mounted at /content/drive; to attempt to forcibly remount, call drive.mount(\"/content/drive\", force_remount=True).\n"
          ],
          "name": "stdout"
        }
      ]
    },
    {
      "cell_type": "code",
      "metadata": {
        "id": "8RM-eg0dEiao",
        "colab_type": "code",
        "colab": {}
      },
      "source": [
        "from tensorflow.keras.models import Sequential, Model\n",
        "from tensorflow.keras.layers import Embedding, Conv1D, GlobalMaxPooling1D, Dense, Flatten, Concatenate, Input, LSTM\n",
        "from tensorflow.keras.utils import to_categorical\n",
        "from tensorflow.keras.preprocessing.sequence import pad_sequences\n",
        "\n",
        "import pandas as pd"
      ],
      "execution_count": null,
      "outputs": []
    },
    {
      "cell_type": "markdown",
      "metadata": {
        "id": "ydbQv_xFFQQN",
        "colab_type": "text"
      },
      "source": [
        "# 데이터 로드 및 전처리"
      ]
    },
    {
      "cell_type": "code",
      "metadata": {
        "id": "q7LgP7bOgmcX",
        "colab_type": "code",
        "colab": {
          "base_uri": "https://localhost:8080/",
          "height": 586
        },
        "outputId": "a714688d-2e8f-482d-fc22-873d0659c2f9"
      },
      "source": [
        "\n",
        "news_data = pd.read_csv('/content/drive/My Drive/ITchosun_content.csv')\n",
        "\n",
        "news_data=news_data.rename(columns={\"small_category\":'category'})\n",
        "news_data=news_data.dropna(axis=0)\n",
        "news_data.reset_index(drop=True, inplace=True)\n",
        "news_data"
      ],
      "execution_count": null,
      "outputs": [
        {
          "output_type": "execute_result",
          "data": {
            "text/html": [
              "<div>\n",
              "<style scoped>\n",
              "    .dataframe tbody tr th:only-of-type {\n",
              "        vertical-align: middle;\n",
              "    }\n",
              "\n",
              "    .dataframe tbody tr th {\n",
              "        vertical-align: top;\n",
              "    }\n",
              "\n",
              "    .dataframe thead th {\n",
              "        text-align: right;\n",
              "    }\n",
              "</style>\n",
              "<table border=\"1\" class=\"dataframe\">\n",
              "  <thead>\n",
              "    <tr style=\"text-align: right;\">\n",
              "      <th></th>\n",
              "      <th>link</th>\n",
              "      <th>title</th>\n",
              "      <th>date</th>\n",
              "      <th>content</th>\n",
              "      <th>tag</th>\n",
              "      <th>big_category</th>\n",
              "      <th>category</th>\n",
              "    </tr>\n",
              "  </thead>\n",
              "  <tbody>\n",
              "    <tr>\n",
              "      <th>0</th>\n",
              "      <td>http://it.chosun.com/site/data/html_dir/2020/0...</td>\n",
              "      <td>LG, AI로 차세대 화학소재 개발 나선다</td>\n",
              "      <td>2020.09.13</td>\n",
              "      <td>[&lt;div class=\"par\"&gt;LG가 친환경 촉매, 차세대 소재 등 화학소재 개발...</td>\n",
              "      <td>lg사이언스파크,화학소재,인공지능,ai,a3md,토탈</td>\n",
              "      <td>기술</td>\n",
              "      <td>과학·기술</td>\n",
              "    </tr>\n",
              "    <tr>\n",
              "      <th>1</th>\n",
              "      <td>http://it.chosun.com/site/data/html_dir/2020/0...</td>\n",
              "      <td>현대차·인천시, 국토부 ‘스마트시티 챌린지 사업’ 협약 맺어</td>\n",
              "      <td>2020.09.13</td>\n",
              "      <td>[&lt;div class=\"par\"&gt;현대자동차가 인공지능 기반 통합 모빌리티 서비스 고...</td>\n",
              "      <td>자동차,국산차,현대자동차,컨소시엄,스마트챌린지</td>\n",
              "      <td>자동차</td>\n",
              "      <td>일반</td>\n",
              "    </tr>\n",
              "    <tr>\n",
              "      <th>2</th>\n",
              "      <td>http://it.chosun.com/site/data/html_dir/2020/0...</td>\n",
              "      <td>[차주경의 테크&amp;영화] 그러게 고독이 무섭다니까, 패신저스(Passengers, 2...</td>\n",
              "      <td>2020.09.13</td>\n",
              "      <td>[&lt;div class=\"par\"&gt;&lt;span style=\"color:#0000ff;\"...</td>\n",
              "      <td>영화,테크,기술,ict,인공지능,ai,가상현실,vr,로봇,칩,인공두뇌,증강현실,바이...</td>\n",
              "      <td>게임·라이프</td>\n",
              "      <td>미디어·엔터테인먼트</td>\n",
              "    </tr>\n",
              "    <tr>\n",
              "      <th>3</th>\n",
              "      <td>http://it.chosun.com/site/data/html_dir/2020/0...</td>\n",
              "      <td>[주간 테크 뉴스] 넥슨, 부당한 방법으로 단숨에 던파 1위 등극 의혹</td>\n",
              "      <td>2020.09.12</td>\n",
              "      <td>[&lt;div class=\"par\"&gt;2020년 9월 7일부터 9월 11일까지 한 주간 ...</td>\n",
              "      <td>IT조선, itchosun, IT조선, 일반</td>\n",
              "      <td>기업</td>\n",
              "      <td>일반</td>\n",
              "    </tr>\n",
              "    <tr>\n",
              "      <th>4</th>\n",
              "      <td>http://it.chosun.com/site/data/html_dir/2020/0...</td>\n",
              "      <td>메가존 클라우드, AI 유니콘 '그래프코어'와 총판 계약 체결</td>\n",
              "      <td>2020.09.11</td>\n",
              "      <td>[&lt;div class=\"par\"&gt;클라우드 관리 기업&lt;span style=\"font-...</td>\n",
              "      <td>메가존클라우드,메가존,그래프코어,이주완,자연어처리,컴퓨터비전,ai</td>\n",
              "      <td>기업</td>\n",
              "      <td>컴퓨팅·IT서비스</td>\n",
              "    </tr>\n",
              "    <tr>\n",
              "      <th>...</th>\n",
              "      <td>...</td>\n",
              "      <td>...</td>\n",
              "      <td>...</td>\n",
              "      <td>...</td>\n",
              "      <td>...</td>\n",
              "      <td>...</td>\n",
              "      <td>...</td>\n",
              "    </tr>\n",
              "    <tr>\n",
              "      <th>1966</th>\n",
              "      <td>http://it.chosun.com/site/data/html_dir/2019/0...</td>\n",
              "      <td>'눈 가리고 달리는' 중국 기술개발, 개인정보·인권 무시에 사회 감시까지</td>\n",
              "      <td>2019.09.05</td>\n",
              "      <td>[&lt;div class=\"par\"&gt;중국이 미국 기술 리더십에 도전하는 과정에서 끊임없...</td>\n",
              "      <td>중국,자오,딥페이크,감시,통제,위구르족,아이폰해킹,멀웨어</td>\n",
              "      <td>기술</td>\n",
              "      <td>로봇·드론·VR</td>\n",
              "    </tr>\n",
              "    <tr>\n",
              "      <th>1967</th>\n",
              "      <td>http://it.chosun.com/site/data/html_dir/2019/0...</td>\n",
              "      <td>코닥은 ‘폭망’ 인스타는 '대박'…“창의적인건 실패 가능성 높지만 끝까지 밀어부쳐야\"</td>\n",
              "      <td>2019.09.05</td>\n",
              "      <td>[&lt;div class=\"par\"&gt;코닥은 디지털 카메라 시장 선구자다. 누구도 코닥의...</td>\n",
              "      <td>실패박물관,사무엘웨스트,스타트업,혁신</td>\n",
              "      <td>기업</td>\n",
              "      <td>중기·벤처</td>\n",
              "    </tr>\n",
              "    <tr>\n",
              "      <th>1968</th>\n",
              "      <td>http://it.chosun.com/site/data/html_dir/2019/0...</td>\n",
              "      <td>KT, 관리시스템 ‘아타카마’로 글로벌 시장 도전</td>\n",
              "      <td>2019.09.04</td>\n",
              "      <td>[&lt;div class=\"par\"&gt;KT가 50억원을 투자해 빅데이터 기반 차세대 외부...</td>\n",
              "      <td>아타카마,차세대osp관리시스템,kt,5g,사파이어,아현화재</td>\n",
              "      <td>기업</td>\n",
              "      <td>방송·통신</td>\n",
              "    </tr>\n",
              "    <tr>\n",
              "      <th>1969</th>\n",
              "      <td>http://it.chosun.com/site/data/html_dir/2019/0...</td>\n",
              "      <td>인텔, IFA서 '10세대' 노트북 대거 공개…차세대 노트북 비전 제시한다</td>\n",
              "      <td>2019.09.04</td>\n",
              "      <td>[&lt;div class=\"par\"&gt;인텔이 독일 베를린에서 열리는 IFA 2019에서 ...</td>\n",
              "      <td>인텔,ifa2019,10세대프로세서,아테나프로젝트,오픈랩,노트북,2in1,pc혁신</td>\n",
              "      <td>기업</td>\n",
              "      <td>PC·가전·모바일</td>\n",
              "    </tr>\n",
              "    <tr>\n",
              "      <th>1970</th>\n",
              "      <td>http://it.chosun.com/site/data/html_dir/2019/0...</td>\n",
              "      <td>삼성전자, 5G 통합 모바일 AP 프로세서 내놨다</td>\n",
              "      <td>2019.09.04</td>\n",
              "      <td>[&lt;div class=\"par\"&gt;&lt;strong&gt;고성능 NPU 탑재로 AI 연산 속도...</td>\n",
              "      <td>삼성전자,엑시노스980,5g통합칩,온디바이스ai</td>\n",
              "      <td>기업</td>\n",
              "      <td>PC·가전·모바일</td>\n",
              "    </tr>\n",
              "  </tbody>\n",
              "</table>\n",
              "<p>1971 rows × 7 columns</p>\n",
              "</div>"
            ],
            "text/plain": [
              "                                                   link  ...    category\n",
              "0     http://it.chosun.com/site/data/html_dir/2020/0...  ...       과학·기술\n",
              "1     http://it.chosun.com/site/data/html_dir/2020/0...  ...          일반\n",
              "2     http://it.chosun.com/site/data/html_dir/2020/0...  ...  미디어·엔터테인먼트\n",
              "3     http://it.chosun.com/site/data/html_dir/2020/0...  ...          일반\n",
              "4     http://it.chosun.com/site/data/html_dir/2020/0...  ...   컴퓨팅·IT서비스\n",
              "...                                                 ...  ...         ...\n",
              "1966  http://it.chosun.com/site/data/html_dir/2019/0...  ...    로봇·드론·VR\n",
              "1967  http://it.chosun.com/site/data/html_dir/2019/0...  ...       중기·벤처\n",
              "1968  http://it.chosun.com/site/data/html_dir/2019/0...  ...       방송·통신\n",
              "1969  http://it.chosun.com/site/data/html_dir/2019/0...  ...   PC·가전·모바일\n",
              "1970  http://it.chosun.com/site/data/html_dir/2019/0...  ...   PC·가전·모바일\n",
              "\n",
              "[1971 rows x 7 columns]"
            ]
          },
          "metadata": {
            "tags": []
          },
          "execution_count": 188
        }
      ]
    },
    {
      "cell_type": "code",
      "metadata": {
        "id": "sU1H11m_tAqU",
        "colab_type": "code",
        "colab": {
          "base_uri": "https://localhost:8080/",
          "height": 52
        },
        "outputId": "81fa8aa0-7b77-4eea-b483-8133cca3b1b1"
      },
      "source": [
        "news_data['big_category'].unique()"
      ],
      "execution_count": null,
      "outputs": [
        {
          "output_type": "execute_result",
          "data": {
            "text/plain": [
              "array(['기술', '자동차', '게임·라이프', '기업', '칼럼·해설', '사람', '전체 기사', '뉴스'],\n",
              "      dtype=object)"
            ]
          },
          "metadata": {
            "tags": []
          },
          "execution_count": 189
        }
      ]
    },
    {
      "cell_type": "code",
      "metadata": {
        "id": "WZbe5Gd3tLTc",
        "colab_type": "code",
        "colab": {
          "base_uri": "https://localhost:8080/",
          "height": 35
        },
        "outputId": "313a810f-00d6-417d-c08e-cab2297b8fa4"
      },
      "source": [
        "tech=news_data[news_data['big_category'] == '기술'].index ################# 기술\n",
        "news_data.iloc[tech].category.unique()  # '과학·기술', '일반', '로봇·드론·VR', '보안'\n",
        "'''\n",
        "공통 --> 일반\n",
        "기술 --> 과학·기술 , 보안 , 로봇·드론·VR\n",
        "\n",
        "'''\n",
        "# car=news_data[news_data['big_category'] == '자동차'].index\n",
        "# news_data.iloc[car].category.unique() #'일반', '신차', '시승기'\n",
        "\n",
        "game_life=news_data[news_data['big_category'] == '게임·라이프'].index\n",
        "news_data.iloc[game_life].category.unique() #'미디어·엔터테인먼트', '게임·인터넷', '유통·쇼핑', '일반', '키덜트·키즈'\n",
        "''' \n",
        "문화/예술 --> 미디어·엔터테인먼트, 게임·인터넷\n",
        "사회 --> 유통·쇼핑, 키덜트·키즈, 일반\n",
        "'''\n",
        "company=news_data[news_data['big_category'] == '기업'].index \n",
        "news_data.iloc[company].category.unique() #'일반', '컴퓨팅·IT서비스', 'PC·가전·모바일', '금융·핀테크', '중기·벤처', '반도체·디스플레이', '헬스케어·바이오', '외신', '방송·통신', '산업일반', '중공업'\n",
        "'''\n",
        "일반,중기·벤처,산업일반, 중공업 제거\n",
        "\n",
        "공통 --> 컴퓨팅·IT서비스, 방송·통신, 외신\n",
        "경제 --> 금융·핀테크\n",
        "건강 --> 헬스케어·바이오\n",
        "기술 --> PC·가전·모바일, 반도체·디스플레이\n",
        "\n",
        "'''\n",
        "\n",
        "# column=news_data[news_data['big_category'] == '칼럼·해설'].index\n",
        "# news_data.iloc[column].category.unique() #'기자수첩·해설', '외부 칼럼'\n",
        "\n",
        "# person=news_data[news_data['big_category'] == '사람'].index\n",
        "# news_data.iloc[person].category.unique() #'인터뷰', '인사·부음'\n",
        "\n",
        "# article=news_data[news_data['big_category'] == '전체 기사'].index\n",
        "# news_data.iloc[article].category.unique() #'뉴스종합', '일반'\n",
        "\n",
        "# news=news_data[news_data['big_category'] == '뉴스'].index\n",
        "# news_data.iloc[news].category.unique() #'일반', '알립니다'"
      ],
      "execution_count": null,
      "outputs": [
        {
          "output_type": "execute_result",
          "data": {
            "application/vnd.google.colaboratory.intrinsic+json": {
              "type": "string"
            },
            "text/plain": [
              "'\\n일반,중기·벤처,산업일반, 중공업 제거\\n\\n공통 --> 컴퓨팅·IT서비스, 방송·통신, 외신\\n경제 --> 금융·핀테크\\n건강 --> 헬스케어·바이오\\n기술 --> PC·가전·모바일, 반도체·디스플레이\\n\\n'"
            ]
          },
          "metadata": {
            "tags": []
          },
          "execution_count": 190
        }
      ]
    },
    {
      "cell_type": "code",
      "metadata": {
        "id": "r6W-ElXNyRuU",
        "colab_type": "code",
        "colab": {}
      },
      "source": [
        "# news_data[(news_data['big_category']=='기업') & (news_data['category']=='일반')]\n",
        "# news_data[(news_data['big_category']=='게임·라이프') & (news_data['category']=='일반')]\n",
        "# news_data[(news_data['big_category']=='기술') & (news_data['category']=='일반')]\n",
        "# news_data[(news_data['big_category']=='기업') & (news_data['category']=='산업일반')]\n"
      ],
      "execution_count": null,
      "outputs": []
    },
    {
      "cell_type": "code",
      "metadata": {
        "id": "dQcLeMH3rBDO",
        "colab_type": "code",
        "colab": {}
      },
      "source": [
        "news_data['category'].value_counts()\n",
        "\n",
        "#카테고리 삭제\n",
        "\n",
        "drop1=news_data[news_data['big_category'] == '자동차'].index\n",
        "news_data=news_data.drop(drop1)\n",
        "drop2=news_data[news_data['big_category'] == '칼럼·해설'].index\n",
        "news_data=news_data.drop(drop2)\n",
        "drop2=news_data[news_data['big_category'] == '사람'].index\n",
        "news_data=news_data.drop(drop2)\n",
        "drop2=news_data[news_data['big_category'] == '전체 기사'].index\n",
        "news_data=news_data.drop(drop2)\n",
        "drop2=news_data[news_data['big_category'] == '뉴스'].index\n",
        "news_data=news_data.drop(drop2)\n",
        "drop2 = news_data[(news_data['big_category']=='기업') & (news_data['category']=='일반')].index\n",
        "news_data=news_data.drop(drop2)\n",
        "drop2 = news_data[(news_data['big_category']=='기업') & (news_data['category']=='중기·벤처')].index\n",
        "news_data=news_data.drop(drop2)\n",
        "drop2 = news_data[(news_data['big_category']=='기업') & (news_data['category']=='산업일반')].index\n",
        "news_data=news_data.drop(drop2)\n",
        "drop2 = news_data[(news_data['big_category']=='기업') & (news_data['category']=='중공업')].index\n",
        "news_data=news_data.drop(drop2)\n",
        "\n",
        "\n",
        "news_data.reset_index(drop=True, inplace=True)"
      ],
      "execution_count": null,
      "outputs": []
    },
    {
      "cell_type": "markdown",
      "metadata": {
        "id": "YkLbQsGT4DF7",
        "colab_type": "text"
      },
      "source": [
        "\n",
        "================================================\n",
        "\n",
        "<기술>\n",
        "- 공통 --> 일반\n",
        "- 기술 --> 과학·기술 , 보안 , 로봇·드론·VR\n",
        "\n",
        "=================================================\n",
        "\n",
        "<게임·라이프>\n",
        "- 문화/예술 --> 미디어·엔터테인먼트, 게임·인터넷\n",
        "- 사회 --> 유통·쇼핑, 키덜트·키즈, 일반\n",
        "\n",
        "=======================================================\n",
        "\n",
        "<기업>\n",
        "- 일반, 중기·벤처, 산업일반, 중공업 제거\n",
        "\n",
        "- 공통 --> 컴퓨팅·IT서비스, 방송·통신, 외신\n",
        "- 경제 --> 금융·핀테크\n",
        "- 건강 --> 헬스케어·바이오\n",
        "- 기술 --> PC·가전·모바일, 반도체·디스플레이\n"
      ]
    },
    {
      "cell_type": "code",
      "metadata": {
        "id": "5qjk1Hat3g5m",
        "colab_type": "code",
        "colab": {
          "base_uri": "https://localhost:8080/",
          "height": 105
        },
        "outputId": "f721f808-e95b-4b0b-87d8-49b76ff9a145"
      },
      "source": [
        "import numpy as np\n",
        "\n",
        "news_data['team_category'] = np.nan\n",
        "news_data['team_category'][news_data[(news_data['big_category']=='기술') & (news_data['category']=='과학·기술')].index]='기술'\n",
        "\n",
        "news_data['team_category'][news_data[(news_data['big_category']=='기술') & (news_data['category']=='보안')].index] = '기술'\n",
        "news_data['team_category'][news_data[(news_data['big_category']=='기술') & (news_data['category']=='로봇·드론·VR')].index] = '기술'\n",
        "news_data['team_category'][news_data[(news_data['big_category']=='기술') & (news_data['category']=='일반')].index]= '공통'\n",
        "\n",
        "news_data['team_category'][news_data[(news_data['big_category']=='게임·라이프') & (news_data['category']=='미디어·엔터테인먼트')].index]= '문화/예술'\n",
        "news_data['team_category'][news_data[(news_data['big_category']=='게임·라이프') & (news_data['category']=='게임·인터넷')].index] = '문화/예술'\n",
        "news_data['team_category'][news_data[(news_data['big_category']=='게임·라이프') & (news_data['category']=='유통·쇼핑')].index] = '사회'\n",
        "news_data['team_category'][news_data[(news_data['big_category']=='게임·라이프') & (news_data['category']=='키덜트·키즈')].index] = '사회'\n",
        "news_data['team_category'][news_data[(news_data['big_category']=='게임·라이프') & (news_data['category']=='일반')].index] = '사회'\n",
        "\n",
        "news_data['team_category'][news_data[(news_data['big_category']=='기업') & (news_data['category']=='컴퓨팅·IT서비스')].index] = '공통'\n",
        "news_data['team_category'][news_data[(news_data['big_category']=='기업') & (news_data['category']=='방송·통신')].index] = '공통'\n",
        "news_data['team_category'][news_data[(news_data['big_category']=='기업') & (news_data['category']=='외신')].index]= '공통'\n",
        "news_data['team_category'][news_data[(news_data['big_category']=='기업') & (news_data['category']=='금융·핀테크')].index] = '경제'\n",
        "news_data['team_category'][news_data[(news_data['big_category']=='기업') & (news_data['category']=='헬스케어·바이오')].index]= '건강'\n",
        "news_data['team_category'][news_data[(news_data['big_category']=='기업') & (news_data['category']=='PC·가전·모바일')].index]= '기술'\n",
        "news_data['team_category'][news_data[(news_data['big_category']=='기업') & (news_data['category']=='반도체·디스플레이')].index] = '기술'\n",
        "\n"
      ],
      "execution_count": null,
      "outputs": [
        {
          "output_type": "stream",
          "text": [
            "/usr/local/lib/python3.6/dist-packages/ipykernel_launcher.py:4: SettingWithCopyWarning: \n",
            "A value is trying to be set on a copy of a slice from a DataFrame\n",
            "\n",
            "See the caveats in the documentation: https://pandas.pydata.org/pandas-docs/stable/user_guide/indexing.html#returning-a-view-versus-a-copy\n",
            "  after removing the cwd from sys.path.\n"
          ],
          "name": "stderr"
        }
      ]
    },
    {
      "cell_type": "code",
      "metadata": {
        "id": "fBTVtijj6sBa",
        "colab_type": "code",
        "colab": {
          "base_uri": "https://localhost:8080/",
          "height": 228
        },
        "outputId": "ee63728e-6353-4f6e-b246-40388479f37b"
      },
      "source": [
        "news_data.isna().sum()\n",
        "news_data['team_category']"
      ],
      "execution_count": null,
      "outputs": [
        {
          "output_type": "execute_result",
          "data": {
            "text/plain": [
              "0          기술\n",
              "1       문화/예술\n",
              "2          공통\n",
              "3          기술\n",
              "4          기술\n",
              "        ...  \n",
              "1399       기술\n",
              "1400       기술\n",
              "1401       공통\n",
              "1402       기술\n",
              "1403       기술\n",
              "Name: team_category, Length: 1404, dtype: object"
            ]
          },
          "metadata": {
            "tags": []
          },
          "execution_count": 194
        }
      ]
    },
    {
      "cell_type": "code",
      "metadata": {
        "id": "xt_pnlx5r7W5",
        "colab_type": "code",
        "colab": {
          "base_uri": "https://localhost:8080/",
          "height": 34
        },
        "outputId": "134bdc86-2b08-4368-ef90-beea44fe5608"
      },
      "source": [
        "# 카테고리 정수 인코딩\n",
        "\n",
        "category_list = pd.factorize(news_data['team_category'])[1]\n",
        "news_data['category'] = pd.factorize(news_data['team_category'])[0]\n",
        "\n",
        "news_data['category'].unique()\n",
        "category_list.nunique()\n",
        "\n",
        "news_data=news_data[['title','content','tag','category']]\n",
        "news_data\n",
        "category_list"
      ],
      "execution_count": null,
      "outputs": [
        {
          "output_type": "execute_result",
          "data": {
            "text/plain": [
              "Index(['기술', '문화/예술', '공통', '경제', '건강', '사회'], dtype='object')"
            ]
          },
          "metadata": {
            "tags": []
          },
          "execution_count": 195
        }
      ]
    },
    {
      "cell_type": "code",
      "metadata": {
        "id": "DO0B-7ZCIhL3",
        "colab_type": "code",
        "colab": {
          "base_uri": "https://localhost:8080/",
          "height": 140
        },
        "outputId": "c64e3a5f-f9f2-4884-9da7-47db7a879340"
      },
      "source": [
        "news_data['category'].value_counts()"
      ],
      "execution_count": null,
      "outputs": [
        {
          "output_type": "execute_result",
          "data": {
            "text/plain": [
              "2    691\n",
              "0    371\n",
              "1    158\n",
              "3     79\n",
              "4     61\n",
              "5     44\n",
              "Name: category, dtype: int64"
            ]
          },
          "metadata": {
            "tags": []
          },
          "execution_count": 196
        }
      ]
    },
    {
      "cell_type": "code",
      "metadata": {
        "id": "E76PAokcnx0W",
        "colab_type": "code",
        "colab": {
          "base_uri": "https://localhost:8080/",
          "height": 34
        },
        "outputId": "3ba92b42-1234-4bf1-bd3a-41aabb4d9876"
      },
      "source": [
        "news_data.category.unique() # --> 6가지의 카테고리"
      ],
      "execution_count": null,
      "outputs": [
        {
          "output_type": "execute_result",
          "data": {
            "text/plain": [
              "array([0, 1, 2, 3, 4, 5])"
            ]
          },
          "metadata": {
            "tags": []
          },
          "execution_count": 197
        }
      ]
    },
    {
      "cell_type": "code",
      "metadata": {
        "id": "y060Ub92G8kN",
        "colab_type": "code",
        "colab": {}
      },
      "source": [
        "# 누스 제목 전처리, 단어 이외의 문자들은 띄어쓰기로 변경\n",
        "news_data['title'] = news_data['title'].str.replace(\"[^\\w]\", \" \")"
      ],
      "execution_count": null,
      "outputs": []
    },
    {
      "cell_type": "code",
      "metadata": {
        "id": "-0DWB3bJsvje",
        "colab_type": "code",
        "colab": {
          "base_uri": "https://localhost:8080/",
          "height": 193
        },
        "outputId": "0c974caf-ed57-430c-a608-44873f0d93a1"
      },
      "source": [
        "#  기사 내용 전처리, 괄호 단어 뽑기, 괄호 제거 후 띄어쓰기로 분리\n",
        "\n",
        "import re\n",
        "p = re.compile(r'<.+?>') #html 구조 제거\n",
        "p2 = re.compile(r'\\(([^)]+)') # 괄호 뽑기\n",
        "p3 = re.compile( r'\\([^)]*\\)') # 괄호 제거\n",
        "\n",
        "news_data['regex_content'] = ''\n",
        "news_data['regex_blank'] = ''\n",
        "\n",
        "for n in range(len(news_data['content'])):\n",
        "  sub_content= re.sub(p,'',news_data['content'][n]) #html 구조 제거한 기사 문장\n",
        "  news_data['regex_blank'][n]= p2.findall(news_data['content'][n]) #괄호 단어 뽑은 리스트\n",
        "  sub_content = re.sub(p3,' ',sub_content) #괄호 제거한 기사 문장\n",
        "  sub_content = sub_content.replace(\"[^\\w]\", \" \")\n",
        "  news_data['regex_content'][n] = re.sub('[-=+,#/\\?:^$.@*\\\"※~&%ㆍ·∙!』\\\\’‘|\\(\\)\\[\\]\\<\\>`\\'…》]', ' ', sub_content)\n",
        "  \n",
        "\n",
        "\n"
      ],
      "execution_count": null,
      "outputs": [
        {
          "output_type": "stream",
          "text": [
            "/usr/local/lib/python3.6/dist-packages/ipykernel_launcher.py:13: SettingWithCopyWarning: \n",
            "A value is trying to be set on a copy of a slice from a DataFrame\n",
            "\n",
            "See the caveats in the documentation: https://pandas.pydata.org/pandas-docs/stable/user_guide/indexing.html#returning-a-view-versus-a-copy\n",
            "  del sys.path[0]\n",
            "/usr/local/lib/python3.6/dist-packages/ipykernel_launcher.py:16: SettingWithCopyWarning: \n",
            "A value is trying to be set on a copy of a slice from a DataFrame\n",
            "\n",
            "See the caveats in the documentation: https://pandas.pydata.org/pandas-docs/stable/user_guide/indexing.html#returning-a-view-versus-a-copy\n",
            "  app.launch_new_instance()\n"
          ],
          "name": "stderr"
        }
      ]
    },
    {
      "cell_type": "code",
      "metadata": {
        "id": "aX8NzK5qyd4S",
        "colab_type": "code",
        "colab": {
          "base_uri": "https://localhost:8080/",
          "height": 178
        },
        "outputId": "06012a7b-64fa-42e8-a8e7-e07ad4114dbf"
      },
      "source": [
        "news_data['regex_content'][0]"
      ],
      "execution_count": null,
      "outputs": [
        {
          "output_type": "execute_result",
          "data": {
            "application/vnd.google.colaboratory.intrinsic+json": {
              "type": "string"
            },
            "text/plain": [
              "' LG가 친환경 촉매  차세대 소재 등 화학소재 개발 분야에서 인공지능 와 로봇 기술을 활용한 혁신을 가속화한다 LG사이언스파크는 11일 캐나다의 토론토대학교와 맥마스터대학교  프랑스 에너지 석유회사  토탈 과 함께  AI 기반 소재 개발 컨소시엄  을 결성해 공동연구를 추진한다고 13일 밝혔다   A3MD는 AI를 활용한 소재 개발 분야에서 글로벌 최고 수준의 학계와 산업계 파트너가 함께 참여하는 AI 연합이다 LG는 창립 멤버로 참여했다  신소재 개발을 위한 AI 선행기술을 확보하는 동시에 소재 분야 AI 석학 등과 함께 공동 연구개발 네트워크 기반을 구축한다 컨소시엄은  친환경 촉매 와  차세대 광학소재  개발이 목표다  다양한 AI 모델링 및 자동화 실험 플랫폼 구축 등을 진행한다 보통 석유화학 공정에서 뽑아내는 에틸렌과 같은 화합물은 공기 중의 이산화탄소로부터도 생산할 수 있다  이때 화학반응을 유도하는 촉매를 머신러닝과 자동화 로봇 시스템을 이용해 설계할 수 있다는 것이다  전기를 빛으로 변환하는  페로브스카이트  같은 차세대 소재도 슈퍼컴퓨터 시뮬레이션과 AI 모델링 등을 통해 개발기간을 앞당기고 발광소재 등으로 활용도를 넓힐 수 있다 기존의 소재 연구는 먼저 신규 소재를 발굴한 뒤  이를 합성하고 물성을 검증하는 과정을 반복해야 해 신소재 개발에 수년 혹은 십수년 시간이 소요될 수 밖에 없었다 AI 기술을 소재 개발에 적용하면 소재 물성에 대한 데이터를 보다 정확하게 파악할 수 있다  반복 실험을 거쳐야 하는 기존 연구방법보다 개발 비용이나 기간을 대폭 줄여 고객사별 맞춤형 소재를 보다 제공할 수 있다 컨소시엄에는 소재 정보학  계산 화학 및 로봇을 이용한 대규모 실험 자동화 분야의 AI 권위자인 토론토대 테드 사전트 와 알란 아스푸루구직   맥마스터대 드류 히긴스  등 교수진이 참여한다  에너지 데이터 분석을 위한 AI 솔루션 개발에 적극적인 토탈도 산업계 파트너로 참여한다 A3MD는 비대면 온라인 화상회의 등을 통해 공동 프로젝트를 진행하면서 생성된 데이터와 알고리즘과 같은 성과를 공유하고  AI 교육 프로그램  전문가 포럼  기업 인턴십 등을 통해 교류를 늘려갈 계획이다 LG사이언스파크는 인공지능 분야의 선두 주자인 토론토대학교를 비롯한 글로벌 유수 기관들과의 협업을 통해 딥러닝  머신러닝 등 다양한 연구를 진행하고 있다  2019년 7월에는 토론토대학교와 산업과 물류  제조 현장에 적용되는 AI 기술 개발을 위해  토론토 기업용 인공지능연구소 를 신설하기도 했다 배경훈 LG사이언스파크 AI추진단장은  LG는 화학소재 분야뿐 아니라  다방면에 걸쳐 글로벌 AI의 선두주자들과 오픈 파트너십을 통해 내외부 AI역량을 확보하고 우리 주변 난제를 해결하겠다 며  고객의 삶을 바꿀 수 있는 의미 있는 연구를 지속하겠다 고 말했다 이광영 기자 gwang0e chosunbiz com '"
            ]
          },
          "metadata": {
            "tags": []
          },
          "execution_count": 200
        }
      ]
    },
    {
      "cell_type": "code",
      "metadata": {
        "id": "uFqgCfecePQR",
        "colab_type": "code",
        "colab": {}
      },
      "source": [
        "# ########################################## ########################################## ########################################## \n",
        "# ######################                     MECAB 설치 https://sosomemo.tistory.com/31                     ###################### \n",
        "# ########################################## ########################################## ########################################## \n",
        "\n",
        "# !apt-get update\n",
        "# !apt-get install g++ openjdk-8-jdk\n",
        "# !pip3 install konlpy JPype1-py3\n",
        "# !bash <(curl -s https://raw.githubusercontent.com/konlpy/konlpy/master/scripts/mecab.sh)"
      ],
      "execution_count": null,
      "outputs": []
    },
    {
      "cell_type": "code",
      "metadata": {
        "id": "6bulcfHmx76_",
        "colab_type": "code",
        "colab": {
          "base_uri": "https://localhost:8080/",
          "height": 105
        },
        "outputId": "f47c55b6-445d-4901-c7b3-a91b0c78ecc6"
      },
      "source": [
        "# news_data['mecab'] = ''\n",
        "# for i in range(len(news_data)) :\n",
        "#   news_data['mecab'][i]=news_data['regex_content'][i].split( ) # 기사 문장 띄어쓰기 기준  뽑아 리스트로 저장"
      ],
      "execution_count": null,
      "outputs": [
        {
          "output_type": "stream",
          "text": [
            "/usr/local/lib/python3.6/dist-packages/ipykernel_launcher.py:3: SettingWithCopyWarning: \n",
            "A value is trying to be set on a copy of a slice from a DataFrame\n",
            "\n",
            "See the caveats in the documentation: https://pandas.pydata.org/pandas-docs/stable/user_guide/indexing.html#returning-a-view-versus-a-copy\n",
            "  This is separate from the ipykernel package so we can avoid doing imports until\n"
          ],
          "name": "stderr"
        }
      ]
    },
    {
      "cell_type": "code",
      "metadata": {
        "id": "9uxnlK40GaNL",
        "colab_type": "code",
        "colab": {
          "base_uri": "https://localhost:8080/",
          "height": 105
        },
        "outputId": "36000b2b-d2d9-4ea9-e93d-1d1481ca96fd"
      },
      "source": [
        "#태그\n",
        "\n",
        "news_data['tag_1'] = ''\n",
        "\n",
        "for i in range(len(news_data['tag'])) :\n",
        "  news_data['tag_1'][i]= news_data['tag'][i].replace(',',' ')\n",
        "\n",
        "  # .replace(',',' ')"
      ],
      "execution_count": null,
      "outputs": [
        {
          "output_type": "stream",
          "text": [
            "/usr/local/lib/python3.6/dist-packages/ipykernel_launcher.py:6: SettingWithCopyWarning: \n",
            "A value is trying to be set on a copy of a slice from a DataFrame\n",
            "\n",
            "See the caveats in the documentation: https://pandas.pydata.org/pandas-docs/stable/user_guide/indexing.html#returning-a-view-versus-a-copy\n",
            "  \n"
          ],
          "name": "stderr"
        }
      ]
    },
    {
      "cell_type": "code",
      "metadata": {
        "id": "NbXx2VJ1DkOB",
        "colab_type": "code",
        "colab": {
          "base_uri": "https://localhost:8080/",
          "height": 228
        },
        "outputId": "e126a289-cd38-4ab7-885d-1de051a594a2"
      },
      "source": [
        "news_data['tag_1']"
      ],
      "execution_count": null,
      "outputs": [
        {
          "output_type": "execute_result",
          "data": {
            "text/plain": [
              "0                           lg사이언스파크 화학소재 인공지능 ai a3md 토탈\n",
              "1       영화 테크 기술 ict 인공지능 ai 가상현실 vr 로봇 칩 인공두뇌 증강현실 바이...\n",
              "2                    메가존클라우드 메가존 그래프코어 이주완 자연어처리 컴퓨터비전 ai\n",
              "3                            삼성메디슨 인텔 ai 의료기기 의료솔루션 태아 산모\n",
              "4       지포스30시리즈 4k게이밍 네이티브4k 2160p 게임화질 dlss 인공지능 딥러닝...\n",
              "                              ...                        \n",
              "1399                  lg전자 ifa ifa2019 oled 시그니처 가전 tv 8k\n",
              "1400                      중국 자오 딥페이크 감시 통제 위구르족 아이폰해킹 멀웨어\n",
              "1401                     아타카마 차세대osp관리시스템 kt 5g 사파이어 아현화재\n",
              "1402        인텔 ifa2019 10세대프로세서 아테나프로젝트 오픈랩 노트북 2in1 pc혁신\n",
              "1403                           삼성전자 엑시노스980 5g통합칩 온디바이스ai\n",
              "Name: tag_1, Length: 1404, dtype: object"
            ]
          },
          "metadata": {
            "tags": []
          },
          "execution_count": 202
        }
      ]
    },
    {
      "cell_type": "code",
      "metadata": {
        "id": "tZFs1TVfv1ju",
        "colab_type": "code",
        "colab": {
          "base_uri": "https://localhost:8080/",
          "height": 228
        },
        "outputId": "7046d02c-1100-47ad-bdcb-7b7838f748f6"
      },
      "source": [
        "news_data['title']"
      ],
      "execution_count": null,
      "outputs": [
        {
          "output_type": "execute_result",
          "data": {
            "text/plain": [
              "0                                 LG  AI로 차세대 화학소재 개발 나선다\n",
              "1        차주경의 테크 영화  그러게 고독이 무섭다니까  패신저스 Passengers  2...\n",
              "2                      메가존 클라우드  AI 유니콘  그래프코어 와 총판 계약 체결\n",
              "3                                    삼성 인텔  AI 헬스케어 사업 맞손\n",
              "4                       지포스 30시리즈  진정한  4K 게임 시대  열 수 있을까\n",
              "                              ...                        \n",
              "1399          IFA 2019  LG전자  88인치 8K OLED TV로 기술 격차 리더십 \n",
              "1400              눈 가리고 달리는  중국 기술개발  개인정보 인권 무시에 사회 감시까지\n",
              "1401                          KT  관리시스템  아타카마 로 글로벌 시장 도전\n",
              "1402            인텔  IFA서  10세대  노트북 대거 공개 차세대 노트북 비전 제시한다\n",
              "1403                          삼성전자  5G 통합 모바일 AP 프로세서 내놨다\n",
              "Name: title, Length: 1404, dtype: object"
            ]
          },
          "metadata": {
            "tags": []
          },
          "execution_count": 203
        }
      ]
    },
    {
      "cell_type": "code",
      "metadata": {
        "id": "w70AHe8m1Y0K",
        "colab_type": "code",
        "colab": {}
      },
      "source": [
        "# for i in range(len(news_data)) :\n",
        "#   news_data['mecab'][i].extend(X_token[i])"
      ],
      "execution_count": null,
      "outputs": []
    },
    {
      "cell_type": "code",
      "metadata": {
        "id": "wjSInQPRa22i",
        "colab_type": "code",
        "colab": {}
      },
      "source": [
        "news_data['headline']=news_data['title'] +' ' + news_data['tag_1'] + ' ' + news_data['regex_content']\n",
        "news_data['headline']\n",
        "# news_data['category'].value_counts()\n",
        "\n",
        "# 토큰화 진행 --> a나 an 제거, 띄어쓰기 기준으로 문장 잘라 list에 담기 - X_train, X_test 둘 다 해줘야함!\n",
        "stopwords = ['','또','함께','수','를','을','등','으로','것','약','가','이','즉','은','될','큰','는','로','및','에','그','곧','기자','chosunbiz','며','우리','com','위해','아니라','고','바','와','과','있다','통해','뒤','해','밖에','대한','보다','하는','위한','등을']\n",
        "\n",
        "X_token = []\n",
        "for stc in news_data['headline']:\n",
        "    token = []\n",
        "    words = stc.split()\n",
        "    for word in words:\n",
        "        if word not in stopwords:\n",
        "            token.append(word)\n",
        "    X_token.append(token)\n"
      ],
      "execution_count": null,
      "outputs": []
    },
    {
      "cell_type": "code",
      "metadata": {
        "id": "wxkHD6uc3D55",
        "colab_type": "code",
        "colab": {
          "base_uri": "https://localhost:8080/",
          "height": 34
        },
        "outputId": "dba1052b-3742-4ff3-87f4-8507582b61fb"
      },
      "source": [
        "len(X_token),len(news_data['category'])"
      ],
      "execution_count": null,
      "outputs": [
        {
          "output_type": "execute_result",
          "data": {
            "text/plain": [
              "(1404, 1404)"
            ]
          },
          "metadata": {
            "tags": []
          },
          "execution_count": 210
        }
      ]
    },
    {
      "cell_type": "code",
      "metadata": {
        "id": "2frf1Kn8G9gC",
        "colab_type": "code",
        "colab": {
          "base_uri": "https://localhost:8080/",
          "height": 52
        },
        "outputId": "e8796b56-a661-4290-fa76-471367698cbc"
      },
      "source": [
        "from sklearn.model_selection import train_test_split\n",
        "\n",
        "# split하면서 shuffle 적용\n",
        "X_train, X_test, y_train, y_test = train_test_split(X_token, news_data['category'], test_size=0.2,shuffle=True)\n",
        "\n",
        "# 카테고리 OnehotVector\n",
        "y_train = to_categorical(y_train)\n",
        "y_test = to_categorical(y_test)\n",
        "\n",
        "print(len(y_train[0]))\n",
        "print(len(y_test[0]))\n",
        "\n",
        "# y_train.nunique(), y_test.nunique()"
      ],
      "execution_count": null,
      "outputs": [
        {
          "output_type": "stream",
          "text": [
            "6\n",
            "6\n"
          ],
          "name": "stdout"
        }
      ]
    },
    {
      "cell_type": "code",
      "metadata": {
        "id": "z2TdBHcwHA7D",
        "colab_type": "code",
        "colab": {}
      },
      "source": [
        "from tensorflow.keras.preprocessing.text import Tokenizer\n",
        "\n",
        "# 헤드라인 정수인코딩\n",
        "tokenizer = Tokenizer(20000) # 가장 빈도가 높은 10000개의 단어만 선택하도록 함\n",
        "tokenizer.fit_on_texts(X_train) #vocabulary 만들기\n",
        "X_train = tokenizer.texts_to_sequences(X_train) # vocabulary랑 매칭해 인덱스로 나타내기, 리스트 변환\n",
        "X_test = tokenizer.texts_to_sequences(X_test)"
      ],
      "execution_count": null,
      "outputs": []
    },
    {
      "cell_type": "code",
      "metadata": {
        "id": "nBKVMIAPHCXQ",
        "colab_type": "code",
        "colab": {
          "base_uri": "https://localhost:8080/",
          "height": 52
        },
        "outputId": "306075b3-817b-42dd-ee3c-30fd85df6220"
      },
      "source": [
        "print(len(tokenizer.word_index))\n",
        "\n",
        "wc = 0\n",
        "for word, word_count in tokenizer.word_counts.items():\n",
        "    if word_count <= 2:\n",
        "        wc += 1\n",
        "\n",
        "print(wc)"
      ],
      "execution_count": null,
      "outputs": [
        {
          "output_type": "stream",
          "text": [
            "82447\n",
            "62233\n"
          ],
          "name": "stdout"
        }
      ]
    },
    {
      "cell_type": "code",
      "metadata": {
        "id": "BdmyLiGHHEUx",
        "colab_type": "code",
        "colab": {
          "base_uri": "https://localhost:8080/",
          "height": 265
        },
        "outputId": "5eef0ca0-80ab-409f-e1b1-47a7e6b1f13b"
      },
      "source": [
        "import matplotlib.pyplot as plt # 500단어\n",
        "\n",
        "len_stc = []\n",
        "for data in X_train:\n",
        "    len_stc.append(len(data))\n",
        "\n",
        "y, x, _ = plt.hist(len_stc, bins=100)\n",
        "plt.show()"
      ],
      "execution_count": null,
      "outputs": [
        {
          "output_type": "display_data",
          "data": {
            "image/png": "[encoded data removed]",
            "text/plain": [
              "<Figure size 432x288 with 1 Axes>"
            ]
          },
          "metadata": {
            "tags": [],
            "needs_background": "light"
          }
        }
      ]
    },
    {
      "cell_type": "code",
      "metadata": {
        "id": "_FlbIpERHFuS",
        "colab_type": "code",
        "colab": {
          "base_uri": "https://localhost:8080/",
          "height": 140
        },
        "outputId": "f9521bad-af02-48f8-dc14-c6d58c51e8c7"
      },
      "source": [
        "max_len = 500 # 헤드라인 문장 길이를 보고 맞춰주기 - 패딩\n",
        "X_train = pad_sequences(X_train, maxlen=max_len)\n",
        "X_test = pad_sequences(X_test, maxlen=max_len)\n",
        "\n",
        "# y_train.nunique()\n",
        "# y_test.nunique()\n",
        "X_test\n",
        "# X_train, X_test\n",
        "y_train"
      ],
      "execution_count": null,
      "outputs": [
        {
          "output_type": "execute_result",
          "data": {
            "text/plain": [
              "array([[0., 0., 1., 0., 0., 0.],\n",
              "       [0., 1., 0., 0., 0., 0.],\n",
              "       [0., 0., 1., 0., 0., 0.],\n",
              "       ...,\n",
              "       [0., 0., 1., 0., 0., 0.],\n",
              "       [0., 0., 1., 0., 0., 0.],\n",
              "       [0., 0., 1., 0., 0., 0.]], dtype=float32)"
            ]
          },
          "metadata": {
            "tags": []
          },
          "execution_count": 215
        }
      ]
    },
    {
      "cell_type": "code",
      "metadata": {
        "id": "DgB8_3_DHG6b",
        "colab_type": "code",
        "colab": {}
      },
      "source": [
        "model = Sequential()\n",
        "model.add(Embedding(20000, 128))\n",
        "model.add(LSTM(128))\n",
        "model.add(Dense(6, activation='softmax')) #출력개수 6개의 카테고리"
      ],
      "execution_count": null,
      "outputs": []
    },
    {
      "cell_type": "code",
      "metadata": {
        "id": "loIwsdJhHIKz",
        "colab_type": "code",
        "colab": {
          "base_uri": "https://localhost:8080/",
          "height": 562
        },
        "outputId": "ca7b3253-c4bb-4f3d-e957-e388e549529a"
      },
      "source": [
        "model.compile(loss='categorical_crossentropy', optimizer='adam', metrics=['acc'])\n",
        "model.fit(X_train, y_train, validation_data=(X_test, y_test), batch_size=100, epochs=15)\n",
        "\n",
        "#batch_size : 한번의 batch마다 주는 데이터 샘플 사이즈/ 한 번에 모든 데이터를 넣을 수가 없음\n",
        "#iteration \n",
        "# epoch : 전체 데이터 셋에 대해 한 번 학습을 완료한 상태"
      ],
      "execution_count": null,
      "outputs": [
        {
          "output_type": "stream",
          "text": [
            "Epoch 1/15\n",
            "12/12 [==============================] - 19s 2s/step - loss: 1.7070 - acc: 0.4568 - val_loss: 1.4158 - val_acc: 0.4662\n",
            "Epoch 2/15\n",
            "12/12 [==============================] - 18s 2s/step - loss: 1.3278 - acc: 0.4987 - val_loss: 1.3170 - val_acc: 0.4662\n",
            "Epoch 3/15\n",
            "12/12 [==============================] - 18s 2s/step - loss: 1.1700 - acc: 0.5013 - val_loss: 1.2447 - val_acc: 0.4662\n",
            "Epoch 4/15\n",
            "12/12 [==============================] - 18s 2s/step - loss: 0.8923 - acc: 0.6046 - val_loss: 1.1184 - val_acc: 0.5338\n",
            "Epoch 5/15\n",
            "12/12 [==============================] - 18s 2s/step - loss: 0.5890 - acc: 0.7863 - val_loss: 1.7349 - val_acc: 0.5302\n",
            "Epoch 6/15\n",
            "12/12 [==============================] - 18s 2s/step - loss: 0.4953 - acc: 0.8210 - val_loss: 1.2037 - val_acc: 0.5196\n",
            "Epoch 7/15\n",
            "12/12 [==============================] - 18s 2s/step - loss: 0.3996 - acc: 0.8584 - val_loss: 1.3109 - val_acc: 0.5730\n",
            "Epoch 8/15\n",
            "12/12 [==============================] - 18s 2s/step - loss: 0.3138 - acc: 0.8762 - val_loss: 1.4382 - val_acc: 0.5801\n",
            "Epoch 9/15\n",
            "12/12 [==============================] - 18s 2s/step - loss: 0.2643 - acc: 0.8949 - val_loss: 1.6317 - val_acc: 0.5623\n",
            "Epoch 10/15\n",
            "12/12 [==============================] - 18s 2s/step - loss: 0.2205 - acc: 0.9207 - val_loss: 1.6302 - val_acc: 0.5623\n",
            "Epoch 11/15\n",
            "12/12 [==============================] - 18s 2s/step - loss: 0.1782 - acc: 0.9350 - val_loss: 1.6887 - val_acc: 0.6014\n",
            "Epoch 12/15\n",
            "12/12 [==============================] - 19s 2s/step - loss: 0.1389 - acc: 0.9501 - val_loss: 1.7320 - val_acc: 0.5979\n",
            "Epoch 13/15\n",
            "12/12 [==============================] - 18s 2s/step - loss: 0.1009 - acc: 0.9724 - val_loss: 1.8008 - val_acc: 0.5801\n",
            "Epoch 14/15\n",
            "12/12 [==============================] - 18s 2s/step - loss: 0.0731 - acc: 0.9902 - val_loss: 1.9489 - val_acc: 0.5765\n",
            "Epoch 15/15\n",
            "12/12 [==============================] - 18s 2s/step - loss: 0.0543 - acc: 0.9938 - val_loss: 1.8890 - val_acc: 0.5943\n"
          ],
          "name": "stdout"
        },
        {
          "output_type": "execute_result",
          "data": {
            "text/plain": [
              "<tensorflow.python.keras.callbacks.History at 0x7f266f8abfd0>"
            ]
          },
          "metadata": {
            "tags": []
          },
          "execution_count": 217
        }
      ]
    },
    {
      "cell_type": "markdown",
      "metadata": {
        "id": "iNwtSY7Z5XpD",
        "colab_type": "text"
      },
      "source": [
        "# 결과 연결 필요"
      ]
    },
    {
      "cell_type": "code",
      "metadata": {
        "id": "wdmAkCntn3o6",
        "colab_type": "code",
        "colab": {}
      },
      "source": [
        "test_csv=pd.read_csv('/content/drive/My Drive/times_content.csv')\n",
        "test_list =pd.read_csv('/content/drive/My Drive/AItimes_list.csv')\n",
        "\n",
        "times_data= pd.merge(test_csv, test_list,on='link')\n",
        "times_data = times_data[['tag','content','title']]"
      ],
      "execution_count": null,
      "outputs": []
    },
    {
      "cell_type": "code",
      "metadata": {
        "id": "DIQ3v8ko9wi0",
        "colab_type": "code",
        "colab": {
          "base_uri": "https://localhost:8080/",
          "height": 570
        },
        "outputId": "9c22855c-a0cd-435d-e1e9-b7ce77d49f7c"
      },
      "source": [
        "times_data"
      ],
      "execution_count": null,
      "outputs": [
        {
          "output_type": "execute_result",
          "data": {
            "text/html": [
              "<div>\n",
              "<style scoped>\n",
              "    .dataframe tbody tr th:only-of-type {\n",
              "        vertical-align: middle;\n",
              "    }\n",
              "\n",
              "    .dataframe tbody tr th {\n",
              "        vertical-align: top;\n",
              "    }\n",
              "\n",
              "    .dataframe thead th {\n",
              "        text-align: right;\n",
              "    }\n",
              "</style>\n",
              "<table border=\"1\" class=\"dataframe\">\n",
              "  <thead>\n",
              "    <tr style=\"text-align: right;\">\n",
              "      <th></th>\n",
              "      <th>tag</th>\n",
              "      <th>content</th>\n",
              "      <th>title</th>\n",
              "    </tr>\n",
              "  </thead>\n",
              "  <tbody>\n",
              "    <tr>\n",
              "      <th>0</th>\n",
              "      <td>엔비디아,ARM,소프트뱅크,GPU,CPU,반도체</td>\n",
              "      <td>[&lt;p&gt;결국 엔비디아가 ARM을 인수했다. 인수액은 400억달러(약 47조원). 전...</td>\n",
              "      <td>엔비디아, ARM 인수 '확정'…젠슨 황, \"AI 시대를 위한 결정\"</td>\n",
              "    </tr>\n",
              "    <tr>\n",
              "      <th>1</th>\n",
              "      <td>NaN</td>\n",
              "      <td>[&lt;p&gt;광주와 전남지역을 합쳐 하나의 지방자치단체를 만들자는 '광주·전남 행정통합'...</td>\n",
              "      <td>광주·전남 행정 통합 논의 시동 걸었다</td>\n",
              "    </tr>\n",
              "    <tr>\n",
              "      <th>2</th>\n",
              "      <td>NaN</td>\n",
              "      <td>[&lt;p&gt; &lt;/p&gt;, &lt;p&gt;1조원의 예산이 투입되는 AI 중심 산업융합 집적단지가 광...</td>\n",
              "      <td>[Monday News] 'AI 중심도시 광주' 이것이 풀어야 할 과제다 ④ 광주 ...</td>\n",
              "    </tr>\n",
              "    <tr>\n",
              "      <th>3</th>\n",
              "      <td>5G,전자파,전자기파,전파,무선통신,이동통신,과기정통부</td>\n",
              "      <td>[&lt;p&gt;국립전파연구원이 전자파에 대한 올바른 정보를 제공한다. 온라인 포럼을 통해 ...</td>\n",
              "      <td>인체에 유해한 전자파?…국립전파연구원, '팩트체크' 자리 마련</td>\n",
              "    </tr>\n",
              "    <tr>\n",
              "      <th>4</th>\n",
              "      <td>NaN</td>\n",
              "      <td>[&lt;p&gt;삼성전기가 초소형 파워인덕터를 개발했다. &lt;/p&gt;, &lt;p&gt;파워인덕터는 반도체...</td>\n",
              "      <td>삼성전기, 초소형 파워인덕터 개발…엣지 AI 소형화 가속</td>\n",
              "    </tr>\n",
              "    <tr>\n",
              "      <th>...</th>\n",
              "      <td>...</td>\n",
              "      <td>...</td>\n",
              "      <td>...</td>\n",
              "    </tr>\n",
              "    <tr>\n",
              "      <th>115</th>\n",
              "      <td>국립전파연구원,국제전기통신연합,ITU,ITU-T,SG17,양자암호통신,정보보호,국제...</td>\n",
              "      <td>[&lt;p&gt;국제표준기구가 국내 연구진 주도로 제안한 정보보호 분야 표준안 8건을 국제 ...</td>\n",
              "      <td>국내 주도 ICT 보안 표준안 8건 '국제 표준' 채택</td>\n",
              "    </tr>\n",
              "    <tr>\n",
              "      <th>116</th>\n",
              "      <td>NaN</td>\n",
              "      <td>[&lt;p&gt;4족 보행 로봇 ‘스폿(Spot)’이 코로나19 최전방에서 고생하는 의료진에...</td>\n",
              "      <td>로봇견 ‘스폿’, 코로나19 최전방서 의료진 도와 활약할까</td>\n",
              "    </tr>\n",
              "    <tr>\n",
              "      <th>117</th>\n",
              "      <td>산업통상자원부,인공지능반도체,AI반도체,자율주행차,사물인터넷,IoT,바이오,로봇,미세공정</td>\n",
              "      <td>[&lt;p&gt;정부가 인공지능(AI) 반도체 상용화를 목표로 관련 기술 개발에 착수한다. ...</td>\n",
              "      <td>산업부, AI 반도체 상용화 위한 기술 개발 추진… 미래차ㆍIoT 등에 적용한다</td>\n",
              "    </tr>\n",
              "    <tr>\n",
              "      <th>118</th>\n",
              "      <td>한국인공지능학회,인공지능,AI,인공지능대학원,AI대학원,바이오의료,신경과학,컴퓨터비전</td>\n",
              "      <td>[&lt;p&gt;한국인공지능학회(학회장 유창동)는 인공지능(AI) 연구자의 학술 교류 및 최...</td>\n",
              "      <td>한국인공지능학회, '2020년 하계학술대회' 열어 AI 연구 조망</td>\n",
              "    </tr>\n",
              "    <tr>\n",
              "      <th>119</th>\n",
              "      <td>NaN</td>\n",
              "      <td>[&lt;p&gt;마스크 착용 여부와 체온을 측정해 코로나19 방역 관리 효율을 높일 수 있는...</td>\n",
              "      <td>\"턱스크 잡는다\"...LG U+, ‘AIㆍ5G 방역로봇’ 개발</td>\n",
              "    </tr>\n",
              "  </tbody>\n",
              "</table>\n",
              "<p>120 rows × 3 columns</p>\n",
              "</div>"
            ],
            "text/plain": [
              "                                                   tag  ...                                              title\n",
              "0                           엔비디아,ARM,소프트뱅크,GPU,CPU,반도체  ...             엔비디아, ARM 인수 '확정'…젠슨 황, \"AI 시대를 위한 결정\"\n",
              "1                                                  NaN  ...                              광주·전남 행정 통합 논의 시동 걸었다\n",
              "2                                                  NaN  ...  [Monday News] 'AI 중심도시 광주' 이것이 풀어야 할 과제다 ④ 광주 ...\n",
              "3                       5G,전자파,전자기파,전파,무선통신,이동통신,과기정통부  ...                 인체에 유해한 전자파?…국립전파연구원, '팩트체크' 자리 마련\n",
              "4                                                  NaN  ...                    삼성전기, 초소형 파워인덕터 개발…엣지 AI 소형화 가속\n",
              "..                                                 ...  ...                                                ...\n",
              "115  국립전파연구원,국제전기통신연합,ITU,ITU-T,SG17,양자암호통신,정보보호,국제...  ...                     국내 주도 ICT 보안 표준안 8건 '국제 표준' 채택\n",
              "116                                                NaN  ...                   로봇견 ‘스폿’, 코로나19 최전방서 의료진 도와 활약할까\n",
              "117  산업통상자원부,인공지능반도체,AI반도체,자율주행차,사물인터넷,IoT,바이오,로봇,미세공정  ...       산업부, AI 반도체 상용화 위한 기술 개발 추진… 미래차ㆍIoT 등에 적용한다\n",
              "118    한국인공지능학회,인공지능,AI,인공지능대학원,AI대학원,바이오의료,신경과학,컴퓨터비전  ...               한국인공지능학회, '2020년 하계학술대회' 열어 AI 연구 조망\n",
              "119                                                NaN  ...                 \"턱스크 잡는다\"...LG U+, ‘AIㆍ5G 방역로봇’ 개발\n",
              "\n",
              "[120 rows x 3 columns]"
            ]
          },
          "metadata": {
            "tags": []
          },
          "execution_count": 261
        }
      ]
    },
    {
      "cell_type": "code",
      "metadata": {
        "id": "o7jf_BHuurCt",
        "colab_type": "code",
        "colab": {}
      },
      "source": [
        "# 누스 제목 전처리, 단어 이외의 문자들은 띄어쓰기로 변경\n",
        "times_data['title'] = times_data['title'].str.replace(\"[^\\w]\", \" \")\n",
        "# times_data['content']"
      ],
      "execution_count": null,
      "outputs": []
    },
    {
      "cell_type": "code",
      "metadata": {
        "id": "-ZxQxoUxiXXG",
        "colab_type": "code",
        "colab": {
          "base_uri": "https://localhost:8080/",
          "height": 228
        },
        "outputId": "ffb7d58b-0daf-4259-c811-338e2379f63b"
      },
      "source": [
        "#  기사 내용 전처리, 괄호 단어 뽑기, 괄호 제거 후 띄어쓰기\n",
        "import re\n",
        "p = re.compile(r'<.+?>') #html 구조 제거\n",
        "p2 = re.compile(r'\\(([^)]+)') # 괄호 뽑기\n",
        "p3 = re.compile( r'\\([^)]*\\)') # 괄호 제거\n",
        "\n",
        "times_data['regex_content'] = ''\n",
        "times_data['regex_blank'] = ''\n",
        "\n",
        "for n in range(len(times_data['content'])):\n",
        "  sub_content= re.sub(p,'',times_data['content'][n]) #html 구조 제거한 기사 문장\n",
        "  times_data['regex_blank'][n]= p2.findall(times_data['content'][n]) #괄호 단어 뽑은 리스트\n",
        "  sub_content = re.sub(p3,' ',sub_content) #괄호 제거한 기사 문장\n",
        "  sub_content = sub_content.replace(\"[^\\w]\", \" \")\n",
        "  times_data['regex_content'][n] = re.sub('[-=+,#/\\?:^$.@*\\\"※~&%ㆍ·∙!』\\\\’‘|\\(\\)\\[\\]\\<\\>`\\'…》]', ' ', sub_content)\n",
        "\n",
        "times_data['regex_content']\n"
      ],
      "execution_count": null,
      "outputs": [
        {
          "output_type": "execute_result",
          "data": {
            "text/plain": [
              "0       결국 엔비디아가 ARM을 인수했다  인수액은 400억달러   전날 월스트리트저널 ...\n",
              "1       광주와 전남지역을 합쳐 하나의 지방자치단체를 만들자는  광주 전남 행정통합 이 본...\n",
              "2          1조원의 예산이 투입되는 AI 중심 산업융합 집적단지가 광주에 조성되고 있는...\n",
              "3       국립전파연구원이 전자파에 대한 올바른 정보를 제공한다  온라인 포럼을 통해 5G ...\n",
              "4       삼성전기가 초소형 파워인덕터를 개발했다    파워인덕터는 반도체에 안정적인 전력을...\n",
              "                             ...                        \n",
              "115     국제표준기구가 국내 연구진 주도로 제안한 정보보호 분야 표준안 8건을 국제 표준으...\n",
              "116     4족 보행 로봇  스폿  이 코로나19 최전방에서 고생하는 의료진에 힘을 보탤 수...\n",
              "117     정부가 인공지능  반도체 상용화를 목표로 관련 기술 개발에 착수한다  민간 기관과...\n",
              "118     한국인공지능학회 는 인공지능  연구자의 학술 교류 및 최근 기술 동향을 공유할 목...\n",
              "119     마스크 착용 여부와 체온을 측정해 코로나19 방역 관리 효율을 높일 수 있는  5...\n",
              "Name: regex_content, Length: 120, dtype: object"
            ]
          },
          "metadata": {
            "tags": []
          },
          "execution_count": 263
        }
      ]
    },
    {
      "cell_type": "code",
      "metadata": {
        "id": "JhgngA468XfA",
        "colab_type": "code",
        "colab": {}
      },
      "source": [
        "#태그\n",
        "\n",
        "times_data['tag_1'] = ''\n",
        "for i in range(len(times_data['tag'])) :\n",
        "  if times_data['tag'].isnull()[i]: times_data['tag_1'][i] = \"\"\n",
        "  else : times_data['tag_1'][i]= times_data['tag'][i].replace(',',' ')\n"
      ],
      "execution_count": null,
      "outputs": []
    },
    {
      "cell_type": "code",
      "metadata": {
        "id": "A0QlR4m25U2G",
        "colab_type": "code",
        "colab": {
          "base_uri": "https://localhost:8080/",
          "height": 228
        },
        "outputId": "2c082a80-786b-4c97-8621-f70378af060c"
      },
      "source": [
        "times_data['tag_1']"
      ],
      "execution_count": null,
      "outputs": [
        {
          "output_type": "execute_result",
          "data": {
            "text/plain": [
              "0                             엔비디아 ARM 소프트뱅크 GPU CPU 반도체\n",
              "1                                                       \n",
              "2                                                       \n",
              "3                         5G 전자파 전자기파 전파 무선통신 이동통신 과기정통부\n",
              "4                                                       \n",
              "                             ...                        \n",
              "115    국립전파연구원 국제전기통신연합 ITU ITU-T SG17 양자암호통신 정보보호 국제...\n",
              "116                                                     \n",
              "117    산업통상자원부 인공지능반도체 AI반도체 자율주행차 사물인터넷 IoT 바이오 로봇 미세공정\n",
              "118      한국인공지능학회 인공지능 AI 인공지능대학원 AI대학원 바이오의료 신경과학 컴퓨터비전\n",
              "119                                                     \n",
              "Name: tag_1, Length: 120, dtype: object"
            ]
          },
          "metadata": {
            "tags": []
          },
          "execution_count": 265
        }
      ]
    },
    {
      "cell_type": "code",
      "metadata": {
        "id": "gBp6837g5_Lq",
        "colab_type": "code",
        "colab": {
          "base_uri": "https://localhost:8080/",
          "height": 228
        },
        "outputId": "d1a14dcb-34cf-4de4-b60b-c84c8462a69a"
      },
      "source": [
        "times_data['regex_content']"
      ],
      "execution_count": null,
      "outputs": [
        {
          "output_type": "execute_result",
          "data": {
            "text/plain": [
              "0       결국 엔비디아가 ARM을 인수했다  인수액은 400억달러   전날 월스트리트저널 ...\n",
              "1       광주와 전남지역을 합쳐 하나의 지방자치단체를 만들자는  광주 전남 행정통합 이 본...\n",
              "2          1조원의 예산이 투입되는 AI 중심 산업융합 집적단지가 광주에 조성되고 있는...\n",
              "3       국립전파연구원이 전자파에 대한 올바른 정보를 제공한다  온라인 포럼을 통해 5G ...\n",
              "4       삼성전기가 초소형 파워인덕터를 개발했다    파워인덕터는 반도체에 안정적인 전력을...\n",
              "                             ...                        \n",
              "115     국제표준기구가 국내 연구진 주도로 제안한 정보보호 분야 표준안 8건을 국제 표준으...\n",
              "116     4족 보행 로봇  스폿  이 코로나19 최전방에서 고생하는 의료진에 힘을 보탤 수...\n",
              "117     정부가 인공지능  반도체 상용화를 목표로 관련 기술 개발에 착수한다  민간 기관과...\n",
              "118     한국인공지능학회 는 인공지능  연구자의 학술 교류 및 최근 기술 동향을 공유할 목...\n",
              "119     마스크 착용 여부와 체온을 측정해 코로나19 방역 관리 효율을 높일 수 있는  5...\n",
              "Name: regex_content, Length: 120, dtype: object"
            ]
          },
          "metadata": {
            "tags": []
          },
          "execution_count": 266
        }
      ]
    },
    {
      "cell_type": "code",
      "metadata": {
        "id": "N-PQN4tX5cDo",
        "colab_type": "code",
        "colab": {
          "base_uri": "https://localhost:8080/",
          "height": 228
        },
        "outputId": "5b655170-8ced-4d8f-b03c-a9ff18e53738"
      },
      "source": [
        "times_data['headline']=times_data['title'] +' ' + times_data['tag_1'] + ' ' + times_data['regex_content']\n",
        "times_data['headline']"
      ],
      "execution_count": null,
      "outputs": [
        {
          "output_type": "execute_result",
          "data": {
            "text/plain": [
              "0      엔비디아  ARM 인수  확정  젠슨 황   AI 시대를 위한 결정  엔비디아 AR...\n",
              "1      광주 전남 행정 통합 논의 시동 걸었다   광주와 전남지역을 합쳐 하나의 지방자치단...\n",
              "2       Monday News   AI 중심도시 광주  이것이 풀어야 할 과제다 ④ 광주 ...\n",
              "3      인체에 유해한 전자파  국립전파연구원   팩트체크  자리 마련 5G 전자파 전자기파...\n",
              "4      삼성전기  초소형 파워인덕터 개발 엣지 AI 소형화 가속   삼성전기가 초소형 파워...\n",
              "                             ...                        \n",
              "115    국내 주도 ICT 보안 표준안 8건  국제 표준  채택 국립전파연구원 국제전기통신연...\n",
              "116    로봇견  스폿   코로나19 최전방서 의료진 도와 활약할까   4족 보행 로봇  스...\n",
              "117    산업부  AI 반도체 상용화 위한 기술 개발 추진  미래차ㆍIoT 등에 적용한다 산...\n",
              "118    한국인공지능학회   2020년 하계학술대회  열어 AI 연구 조망 한국인공지능학회 ...\n",
              "119     턱스크 잡는다    LG U    AIㆍ5G 방역로봇  개발   마스크 착용 여부...\n",
              "Name: headline, Length: 120, dtype: object"
            ]
          },
          "metadata": {
            "tags": []
          },
          "execution_count": 267
        }
      ]
    },
    {
      "cell_type": "code",
      "metadata": {
        "id": "MTFyHFTppS00",
        "colab_type": "code",
        "colab": {}
      },
      "source": [
        "stopwords = ['','함께','하지만','뿐','한','또','수','를','을','등','으로','것','약','가','이','즉','은','될','큰','는','로','및','에','그','곧','기자','chosunbiz','며','우리','com','위해','아니라','고','바','와','과','있다','통해','뒤','해','밖에','대한','보다','하는','위한','등을']\n",
        "\n",
        "X_token = []\n",
        "for stc in times_data['headline']:\n",
        "    token = []\n",
        "    words = stc.split()\n",
        "    for word in words:\n",
        "        if word not in stopwords:\n",
        "            token.append(word)\n",
        "    X_token.append(token)"
      ],
      "execution_count": null,
      "outputs": []
    },
    {
      "cell_type": "code",
      "metadata": {
        "id": "T02AAz7l6RLU",
        "colab_type": "code",
        "colab": {
          "base_uri": "https://localhost:8080/",
          "height": 1000
        },
        "outputId": "d6e0357c-c014-4d92-ebc3-c3eda3f6ac65"
      },
      "source": [
        "X_token[1]"
      ],
      "execution_count": null,
      "outputs": [
        {
          "output_type": "execute_result",
          "data": {
            "text/plain": [
              "['광주',\n",
              " '전남',\n",
              " '행정',\n",
              " '통합',\n",
              " '논의',\n",
              " '시동',\n",
              " '걸었다',\n",
              " '광주와',\n",
              " '전남지역을',\n",
              " '합쳐',\n",
              " '하나의',\n",
              " '지방자치단체를',\n",
              " '만들자는',\n",
              " '광주',\n",
              " '전남',\n",
              " '행정통합',\n",
              " '본격적인',\n",
              " '시동을',\n",
              " '걸었다',\n",
              " '이용섭',\n",
              " '광주시장이',\n",
              " '던진',\n",
              " '시',\n",
              " '도행정',\n",
              " '통합',\n",
              " '화두에',\n",
              " '전남도가',\n",
              " '찬성',\n",
              " '입장을',\n",
              " '보이면서',\n",
              " '광주시와',\n",
              " '전남도의',\n",
              " '통합',\n",
              " '논의가',\n",
              " '수면',\n",
              " '위로',\n",
              " '떠올랐다',\n",
              " '1995년',\n",
              " '민선',\n",
              " '1기',\n",
              " '출범',\n",
              " '직후',\n",
              " '전남도청',\n",
              " '이전과',\n",
              " '맞물려',\n",
              " '5년',\n",
              " '넘게',\n",
              " '광주시',\n",
              " '전남도',\n",
              " '통합',\n",
              " '추진하다',\n",
              " '무산된',\n",
              " '지',\n",
              " '20년',\n",
              " '만이다',\n",
              " '시장은',\n",
              " '지난',\n",
              " '10일',\n",
              " '공공기관',\n",
              " '지방이전',\n",
              " '대응방안',\n",
              " '토론회',\n",
              " '축사에서',\n",
              " '광주',\n",
              " '전남의',\n",
              " '행정통합을',\n",
              " '적극',\n",
              " '검토해야',\n",
              " '할',\n",
              " '시점에',\n",
              " '와있다',\n",
              " '통합을',\n",
              " '제안했다',\n",
              " '전남도는',\n",
              " '이튿날',\n",
              " '대변인',\n",
              " '명의로',\n",
              " '공감하고',\n",
              " '찬성한다',\n",
              " '화답했다',\n",
              " '김영록',\n",
              " '전남지사의',\n",
              " '공식',\n",
              " '답변이',\n",
              " '아니긴',\n",
              " '원론적으로',\n",
              " '찬성한다는',\n",
              " '것이다',\n",
              " '광주시와',\n",
              " '전남도가',\n",
              " '광주',\n",
              " '군',\n",
              " '공항',\n",
              " '공공기관',\n",
              " '2차',\n",
              " '이전',\n",
              " '각종',\n",
              " '현안마다',\n",
              " '대립각을',\n",
              " '세우고',\n",
              " '있는',\n",
              " '와중에',\n",
              " '실제',\n",
              " '통합',\n",
              " '이뤄질',\n",
              " '있겠느냐는',\n",
              " '부정적',\n",
              " '기류도',\n",
              " '상당하다',\n",
              " '◇',\n",
              " '시장의',\n",
              " '광주전남',\n",
              " '통합',\n",
              " '제안',\n",
              " '배경은',\n",
              " '시장이',\n",
              " '사전에',\n",
              " '전남도와',\n",
              " '아무런',\n",
              " '협의',\n",
              " '없이',\n",
              " '전격적으로',\n",
              " '통합을',\n",
              " '제안한',\n",
              " '배경에',\n",
              " '대해선',\n",
              " '의견이',\n",
              " '분분하다',\n",
              " '이른바',\n",
              " '혁신도시',\n",
              " '시즌2로',\n",
              " '불리는',\n",
              " '공공기관',\n",
              " '이전',\n",
              " '논의가',\n",
              " '시작되는',\n",
              " '가운데',\n",
              " '통합',\n",
              " '논의해볼',\n",
              " '시점이기는',\n",
              " '자칫',\n",
              " '정치적인',\n",
              " '행보로',\n",
              " '비칠',\n",
              " '소지도',\n",
              " '다분하기',\n",
              " '때문이다',\n",
              " '광주시는',\n",
              " '1차',\n",
              " '공공기관',\n",
              " '이전',\n",
              " '당시',\n",
              " '시',\n",
              " '도',\n",
              " '상생',\n",
              " '차원에서',\n",
              " '전남도를',\n",
              " '도와',\n",
              " '한국전력을',\n",
              " '비롯해',\n",
              " '15개',\n",
              " '공공기관을',\n",
              " '나주시',\n",
              " '공동혁신도시에',\n",
              " '유치했다',\n",
              " '이번에는',\n",
              " '인공지능',\n",
              " '에너지',\n",
              " '정보통신',\n",
              " '문화',\n",
              " '자동차',\n",
              " '산업',\n",
              " '광주의',\n",
              " '미래',\n",
              " '발전',\n",
              " '방향과',\n",
              " '맞는',\n",
              " '공공기관을',\n",
              " '직접',\n",
              " '유치하겠다는',\n",
              " '방침을',\n",
              " '내비쳤다',\n",
              " '한국지역난방공사와',\n",
              " '한국공항공사',\n",
              " '한국데이터진흥원',\n",
              " '한국문화재재단',\n",
              " '한국문화진흥주식회사',\n",
              " '한국문화관광연구원',\n",
              " '등이',\n",
              " '대상인',\n",
              " '것으로',\n",
              " '알려졌다',\n",
              " '시장은',\n",
              " '최근',\n",
              " '시청',\n",
              " '기자단과',\n",
              " '차담회에서',\n",
              " '내부적으로',\n",
              " '유치대상',\n",
              " '공공기관을',\n",
              " '어느',\n",
              " '정도',\n",
              " '확정했으나',\n",
              " '전략상',\n",
              " '밝힐',\n",
              " '단계는',\n",
              " '아니다',\n",
              " '면서도',\n",
              " '광주에',\n",
              " '직접',\n",
              " '공공기관을',\n",
              " '유치하는',\n",
              " '것을',\n",
              " '목표로',\n",
              " '하고',\n",
              " '필요하다면',\n",
              " '전남도와',\n",
              " '공동',\n",
              " '유치전에',\n",
              " '나설',\n",
              " '수도',\n",
              " '말했다',\n",
              " '시장은',\n",
              " '지난',\n",
              " '10일',\n",
              " '통합제안에',\n",
              " '이어',\n",
              " '12일에는',\n",
              " 'SNS',\n",
              " '통합',\n",
              " '당위성을',\n",
              " '강조하고',\n",
              " '나섰다',\n",
              " '시장은',\n",
              " 'SNS에서',\n",
              " '통합',\n",
              " '준비를',\n",
              " '해야',\n",
              " '이유로',\n",
              " '▲천년을',\n",
              " '해온',\n",
              " '공동',\n",
              " '운명체',\n",
              " '▲수도권',\n",
              " '인구의',\n",
              " '비수도권',\n",
              " '인구의',\n",
              " '추월',\n",
              " '▲지자체의',\n",
              " '초광역화',\n",
              " '메가시티',\n",
              " '논의의',\n",
              " '대세',\n",
              " '제시했다',\n",
              " '김영록',\n",
              " '전남도지사는',\n",
              " '토론회',\n",
              " '하루',\n",
              " '전인',\n",
              " '9일',\n",
              " '공공기관',\n",
              " '2차',\n",
              " '이전에',\n",
              " '적극',\n",
              " '대응으로',\n",
              " '30개의',\n",
              " '공공기관과',\n",
              " '12개의',\n",
              " '연구기관',\n",
              " '출자기업',\n",
              " '유치해',\n",
              " '지역경제',\n",
              " '활력과',\n",
              " '새로운',\n",
              " '성장동력을',\n",
              " '창출하겠다',\n",
              " '싹쓸이',\n",
              " '유치',\n",
              " '계획을',\n",
              " '밝혔다',\n",
              " '광주시가',\n",
              " '유치',\n",
              " '대상으로',\n",
              " '삼은',\n",
              " '기관',\n",
              " '대부분을',\n",
              " '전남도가',\n",
              " '유치하겠다고',\n",
              " '발표한',\n",
              " '것으로',\n",
              " '그동안',\n",
              " '상생',\n",
              " '차원에서',\n",
              " '양보해온',\n",
              " '시장',\n",
              " '입장에서는',\n",
              " '불쾌했을',\n",
              " '거라는',\n",
              " '분석이다',\n",
              " '실제로',\n",
              " '시장은',\n",
              " '토론회',\n",
              " '축사에서',\n",
              " '광주와',\n",
              " '전남은',\n",
              " '2007년',\n",
              " '전국에서',\n",
              " '유일하게',\n",
              " '광주의',\n",
              " '통',\n",
              " '양보로',\n",
              " '나주에',\n",
              " '공동혁신도시',\n",
              " '유치를',\n",
              " '합의해',\n",
              " '세계적인',\n",
              " '경쟁력을',\n",
              " '가진',\n",
              " '한국전력을',\n",
              " '유치했고',\n",
              " '유수의',\n",
              " '공공기관',\n",
              " '15곳이',\n",
              " '뒤를',\n",
              " '따랐다',\n",
              " '이런',\n",
              " '상생정신에',\n",
              " '기반해',\n",
              " '1차',\n",
              " '공공기관',\n",
              " '이전',\n",
              " '때',\n",
              " '광주시',\n",
              " '전남도',\n",
              " '나주시간에',\n",
              " '합의했던',\n",
              " '공동혁신도시발전기금',\n",
              " '조성',\n",
              " '등의',\n",
              " '약속이',\n",
              " '지금까지도',\n",
              " '지켜지지',\n",
              " '않고',\n",
              " '있어',\n",
              " '매우',\n",
              " '아쉽다',\n",
              " '비판했다',\n",
              " '그러면서',\n",
              " '그럼에도',\n",
              " '2차',\n",
              " '공공기관',\n",
              " '이전',\n",
              " '역시',\n",
              " '저는',\n",
              " '1차',\n",
              " '이전',\n",
              " '때의',\n",
              " '절박함과',\n",
              " '상생정신을',\n",
              " '가슴에',\n",
              " '새기고',\n",
              " '광주',\n",
              " '전남이',\n",
              " '공동',\n",
              " '대응해야',\n",
              " '한다고',\n",
              " '생각한다',\n",
              " '못마땅함을',\n",
              " '우회적으로',\n",
              " '내비쳤다',\n",
              " '지난해',\n",
              " '1월25일',\n",
              " '오전',\n",
              " '광주시청',\n",
              " '비지니스룸에서',\n",
              " '열린',\n",
              " '광주',\n",
              " '전남',\n",
              " '공동혁신도시',\n",
              " '발전기금',\n",
              " '복합혁신센터',\n",
              " '합의문',\n",
              " '협약식에서',\n",
              " '이용섭',\n",
              " '광주시장과',\n",
              " '김영록',\n",
              " '전남도지사',\n",
              " '등이',\n",
              " '서명을',\n",
              " '마친',\n",
              " '합의문을',\n",
              " '들어보이고',\n",
              " '◇',\n",
              " '행정통합',\n",
              " '지역갈등',\n",
              " '근본',\n",
              " '해결',\n",
              " '방안',\n",
              " '광주시와',\n",
              " '전남도는',\n",
              " '공공기관',\n",
              " '2차',\n",
              " '유치전은',\n",
              " '물론',\n",
              " '최근',\n",
              " '광주',\n",
              " '군공항',\n",
              " '이전',\n",
              " '문제',\n",
              " '공동혁신도시',\n",
              " '발전기금',\n",
              " '문제',\n",
              " '잇단',\n",
              " '갈등으로',\n",
              " '사업에',\n",
              " '어려움을',\n",
              " '겪고',\n",
              " '두',\n",
              " '지역이',\n",
              " '하나의',\n",
              " '자치단체가',\n",
              " '된다면',\n",
              " '이런',\n",
              " '지역',\n",
              " '현안을',\n",
              " '쉽게',\n",
              " '풀',\n",
              " '있다는',\n",
              " '것이다',\n",
              " '시장이',\n",
              " '광주',\n",
              " '전남은',\n",
              " '천년을',\n",
              " '함께해',\n",
              " '온',\n",
              " '공동운명체',\n",
              " '라며',\n",
              " '따로',\n",
              " '따로',\n",
              " '가면',\n",
              " '완결성도',\n",
              " '경쟁력도',\n",
              " '확보하기',\n",
              " '어렵고',\n",
              " '지금처럼',\n",
              " '매',\n",
              " '사안마다',\n",
              " '각자도생하고',\n",
              " '치열하게',\n",
              " '경쟁하면',\n",
              " '공멸',\n",
              " '이라고',\n",
              " '것도',\n",
              " '같은',\n",
              " '분석을',\n",
              " '뒷받침한다',\n",
              " '지역',\n",
              " '정가에서는',\n",
              " '공공기관',\n",
              " '유치전에',\n",
              " '따른',\n",
              " '불쾌감보다는',\n",
              " '근본적',\n",
              " '문제',\n",
              " '해결',\n",
              " '고언이라는',\n",
              " '분석에',\n",
              " '힘을',\n",
              " '싣는다',\n",
              " '정치적',\n",
              " '이해관계에',\n",
              " '따른',\n",
              " '유불리를',\n",
              " '따지지',\n",
              " '않고',\n",
              " '지역의',\n",
              " '미래와',\n",
              " '경쟁력을',\n",
              " '차원이라는',\n",
              " '설명이다']"
            ]
          },
          "metadata": {
            "tags": []
          },
          "execution_count": 269
        }
      ]
    },
    {
      "cell_type": "code",
      "metadata": {
        "id": "wdZuRHptGetK",
        "colab_type": "code",
        "colab": {}
      },
      "source": [
        "# token_stc =m.nouns(sentence)\n",
        "empty = []\n",
        "\n",
        "for token_stc in X_token :\n",
        "  encode_stc = tokenizer.texts_to_sequences([token_stc])\n",
        "  pad_stc = pad_sequences(encode_stc, maxlen=500)\n",
        "  score = model.predict(pad_stc)\n",
        "  result_category = category_list[score.argmax()]\n",
        "  result_prob= score[0, score.argmax()] # 확률값 반환\n",
        "  empty.append([result_category, result_prob])"
      ],
      "execution_count": null,
      "outputs": []
    },
    {
      "cell_type": "code",
      "metadata": {
        "id": "UXhtMLza9hg3",
        "colab_type": "code",
        "colab": {}
      },
      "source": [
        "result=pd.DataFrame(empty,columns=['category','prob'])\n",
        "resultttt=pd.concat([times_data,result],axis=1)"
      ],
      "execution_count": 288,
      "outputs": []
    },
    {
      "cell_type": "code",
      "metadata": {
        "id": "UAdm2rYM9jaq",
        "colab_type": "code",
        "colab": {
          "base_uri": "https://localhost:8080/",
          "height": 402
        },
        "outputId": "dcfa977a-1926-4dc9-9ffd-5a515f26c5f5"
      },
      "source": [
        "resultttt[['title','category','prob']]"
      ],
      "execution_count": 289,
      "outputs": [
        {
          "output_type": "execute_result",
          "data": {
            "text/html": [
              "<div>\n",
              "<style scoped>\n",
              "    .dataframe tbody tr th:only-of-type {\n",
              "        vertical-align: middle;\n",
              "    }\n",
              "\n",
              "    .dataframe tbody tr th {\n",
              "        vertical-align: top;\n",
              "    }\n",
              "\n",
              "    .dataframe thead th {\n",
              "        text-align: right;\n",
              "    }\n",
              "</style>\n",
              "<table border=\"1\" class=\"dataframe\">\n",
              "  <thead>\n",
              "    <tr style=\"text-align: right;\">\n",
              "      <th></th>\n",
              "      <th>title</th>\n",
              "      <th>category</th>\n",
              "      <th>prob</th>\n",
              "    </tr>\n",
              "  </thead>\n",
              "  <tbody>\n",
              "    <tr>\n",
              "      <th>0</th>\n",
              "      <td>엔비디아  ARM 인수  확정  젠슨 황   AI 시대를 위한 결정</td>\n",
              "      <td>공통</td>\n",
              "      <td>0.989911</td>\n",
              "    </tr>\n",
              "    <tr>\n",
              "      <th>1</th>\n",
              "      <td>광주 전남 행정 통합 논의 시동 걸었다</td>\n",
              "      <td>기술</td>\n",
              "      <td>0.993323</td>\n",
              "    </tr>\n",
              "    <tr>\n",
              "      <th>2</th>\n",
              "      <td>Monday News   AI 중심도시 광주  이것이 풀어야 할 과제다 ④ 광주 ...</td>\n",
              "      <td>기술</td>\n",
              "      <td>0.592432</td>\n",
              "    </tr>\n",
              "    <tr>\n",
              "      <th>3</th>\n",
              "      <td>인체에 유해한 전자파  국립전파연구원   팩트체크  자리 마련</td>\n",
              "      <td>공통</td>\n",
              "      <td>0.873029</td>\n",
              "    </tr>\n",
              "    <tr>\n",
              "      <th>4</th>\n",
              "      <td>삼성전기  초소형 파워인덕터 개발 엣지 AI 소형화 가속</td>\n",
              "      <td>공통</td>\n",
              "      <td>0.991820</td>\n",
              "    </tr>\n",
              "    <tr>\n",
              "      <th>...</th>\n",
              "      <td>...</td>\n",
              "      <td>...</td>\n",
              "      <td>...</td>\n",
              "    </tr>\n",
              "    <tr>\n",
              "      <th>115</th>\n",
              "      <td>국내 주도 ICT 보안 표준안 8건  국제 표준  채택</td>\n",
              "      <td>기술</td>\n",
              "      <td>0.949060</td>\n",
              "    </tr>\n",
              "    <tr>\n",
              "      <th>116</th>\n",
              "      <td>로봇견  스폿   코로나19 최전방서 의료진 도와 활약할까</td>\n",
              "      <td>공통</td>\n",
              "      <td>0.774538</td>\n",
              "    </tr>\n",
              "    <tr>\n",
              "      <th>117</th>\n",
              "      <td>산업부  AI 반도체 상용화 위한 기술 개발 추진  미래차ㆍIoT 등에 적용한다</td>\n",
              "      <td>기술</td>\n",
              "      <td>0.734547</td>\n",
              "    </tr>\n",
              "    <tr>\n",
              "      <th>118</th>\n",
              "      <td>한국인공지능학회   2020년 하계학술대회  열어 AI 연구 조망</td>\n",
              "      <td>공통</td>\n",
              "      <td>0.882606</td>\n",
              "    </tr>\n",
              "    <tr>\n",
              "      <th>119</th>\n",
              "      <td>턱스크 잡는다    LG U    AIㆍ5G 방역로봇  개발</td>\n",
              "      <td>공통</td>\n",
              "      <td>0.997709</td>\n",
              "    </tr>\n",
              "  </tbody>\n",
              "</table>\n",
              "<p>120 rows × 3 columns</p>\n",
              "</div>"
            ],
            "text/plain": [
              "                                                 title category      prob\n",
              "0               엔비디아  ARM 인수  확정  젠슨 황   AI 시대를 위한 결정        공통  0.989911\n",
              "1                                광주 전남 행정 통합 논의 시동 걸었다       기술  0.993323\n",
              "2     Monday News   AI 중심도시 광주  이것이 풀어야 할 과제다 ④ 광주 ...       기술  0.592432\n",
              "3                   인체에 유해한 전자파  국립전파연구원   팩트체크  자리 마련       공통  0.873029\n",
              "4                      삼성전기  초소형 파워인덕터 개발 엣지 AI 소형화 가속       공통  0.991820\n",
              "..                                                 ...      ...       ...\n",
              "115                     국내 주도 ICT 보안 표준안 8건  국제 표준  채택       기술  0.949060\n",
              "116                   로봇견  스폿   코로나19 최전방서 의료진 도와 활약할까       공통  0.774538\n",
              "117       산업부  AI 반도체 상용화 위한 기술 개발 추진  미래차ㆍIoT 등에 적용한다       기술  0.734547\n",
              "118               한국인공지능학회   2020년 하계학술대회  열어 AI 연구 조망       공통  0.882606\n",
              "119                  턱스크 잡는다    LG U    AIㆍ5G 방역로봇  개발       공통  0.997709\n",
              "\n",
              "[120 rows x 3 columns]"
            ]
          },
          "metadata": {
            "tags": []
          },
          "execution_count": 289
        }
      ]
    },
    {
      "cell_type": "code",
      "metadata": {
        "id": "F9E7y8nwAwyE",
        "colab_type": "code",
        "colab": {
          "base_uri": "https://localhost:8080/",
          "height": 122
        },
        "outputId": "a0a486bc-469f-49e7-ba6f-ef3d4793dad2"
      },
      "source": [
        "resultttt.category.value_counts()"
      ],
      "execution_count": 290,
      "outputs": [
        {
          "output_type": "execute_result",
          "data": {
            "text/plain": [
              "기술       58\n",
              "공통       51\n",
              "문화/예술     7\n",
              "경제        3\n",
              "건강        1\n",
              "Name: category, dtype: int64"
            ]
          },
          "metadata": {
            "tags": []
          },
          "execution_count": 290
        }
      ]
    },
    {
      "cell_type": "code",
      "metadata": {
        "id": "rWiwXmvs-WTQ",
        "colab_type": "code",
        "colab": {
          "base_uri": "https://localhost:8080/",
          "height": 254
        },
        "outputId": "470769e4-83f7-4b38-cbb2-7c7597a85412"
      },
      "source": [
        "resultttt[resultttt.category == '문화/예술'][['tag','headline','category','prob']].sort_values(['prob'],ascending=False)"
      ],
      "execution_count": 300,
      "outputs": [
        {
          "output_type": "execute_result",
          "data": {
            "text/html": [
              "<div>\n",
              "<style scoped>\n",
              "    .dataframe tbody tr th:only-of-type {\n",
              "        vertical-align: middle;\n",
              "    }\n",
              "\n",
              "    .dataframe tbody tr th {\n",
              "        vertical-align: top;\n",
              "    }\n",
              "\n",
              "    .dataframe thead th {\n",
              "        text-align: right;\n",
              "    }\n",
              "</style>\n",
              "<table border=\"1\" class=\"dataframe\">\n",
              "  <thead>\n",
              "    <tr style=\"text-align: right;\">\n",
              "      <th></th>\n",
              "      <th>tag</th>\n",
              "      <th>headline</th>\n",
              "      <th>category</th>\n",
              "      <th>prob</th>\n",
              "    </tr>\n",
              "  </thead>\n",
              "  <tbody>\n",
              "    <tr>\n",
              "      <th>28</th>\n",
              "      <td>NaN</td>\n",
              "      <td>기획  ①코로나 블루 시대 AI음악이 위로한다 안창욱 지스트 교수   인공지능 이...</td>\n",
              "      <td>문화/예술</td>\n",
              "      <td>0.871107</td>\n",
              "    </tr>\n",
              "    <tr>\n",
              "      <th>66</th>\n",
              "      <td>산업부,교육부,ICT,디지털전환,에듀테크,비대면,언택트,AI,가상현실,AR,증강현실</td>\n",
              "      <td>2020 에듀테크 코리아  9일 온라인 개막 산업부 교육부 ICT 디지털전환 에듀...</td>\n",
              "      <td>문화/예술</td>\n",
              "      <td>0.619562</td>\n",
              "    </tr>\n",
              "    <tr>\n",
              "      <th>67</th>\n",
              "      <td>NaN</td>\n",
              "      <td>메디컬아이피  서울성모병원과 3D 해부학 모델 공동 개발     메디컬아이피 가 서...</td>\n",
              "      <td>문화/예술</td>\n",
              "      <td>0.604296</td>\n",
              "    </tr>\n",
              "    <tr>\n",
              "      <th>92</th>\n",
              "      <td>전자피부,인공피부,센서,로봇,RMIT</td>\n",
              "      <td>사람처럼 고통에 반응하는  전자피부  개발 전자피부 인공피부 센서 로봇 RMIT  ...</td>\n",
              "      <td>문화/예술</td>\n",
              "      <td>0.430442</td>\n",
              "    </tr>\n",
              "    <tr>\n",
              "      <th>52</th>\n",
              "      <td>NaN</td>\n",
              "      <td>난 인간을 전멸시키지 않을 것    가디언지에 칼럼 쓴 GPT3   “생각으로 머...</td>\n",
              "      <td>문화/예술</td>\n",
              "      <td>0.399849</td>\n",
              "    </tr>\n",
              "    <tr>\n",
              "      <th>31</th>\n",
              "      <td>브이리뷰,Vreview,인덴트코퍼레이션,챗봇,영상후기,구매후기동영상,위젯</td>\n",
              "      <td>인덴트코퍼레이션 AI 동영상 리뷰 서비스 3억건 노출 브이리뷰 Vreview 인덴트...</td>\n",
              "      <td>문화/예술</td>\n",
              "      <td>0.272593</td>\n",
              "    </tr>\n",
              "    <tr>\n",
              "      <th>99</th>\n",
              "      <td>NaN</td>\n",
              "      <td>전남에서 게임 창업하자  스타트업 지원 행사  눈길    미래 국내 게임 산업을 ...</td>\n",
              "      <td>문화/예술</td>\n",
              "      <td>0.239320</td>\n",
              "    </tr>\n",
              "  </tbody>\n",
              "</table>\n",
              "</div>"
            ],
            "text/plain": [
              "                                               tag  ...      prob\n",
              "28                                             NaN  ...  0.871107\n",
              "66  산업부,교육부,ICT,디지털전환,에듀테크,비대면,언택트,AI,가상현실,AR,증강현실  ...  0.619562\n",
              "67                                             NaN  ...  0.604296\n",
              "92                            전자피부,인공피부,센서,로봇,RMIT  ...  0.430442\n",
              "52                                             NaN  ...  0.399849\n",
              "31        브이리뷰,Vreview,인덴트코퍼레이션,챗봇,영상후기,구매후기동영상,위젯  ...  0.272593\n",
              "99                                             NaN  ...  0.239320\n",
              "\n",
              "[7 rows x 4 columns]"
            ]
          },
          "metadata": {
            "tags": []
          },
          "execution_count": 300
        }
      ]
    },
    {
      "cell_type": "code",
      "metadata": {
        "id": "ahQwx7I4AkVm",
        "colab_type": "code",
        "colab": {}
      },
      "source": [
        ""
      ],
      "execution_count": null,
      "outputs": []
    }
  ]
}