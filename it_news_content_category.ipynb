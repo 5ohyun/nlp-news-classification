{
  "nbformat": 4,
  "nbformat_minor": 0,
  "metadata": {
    "colab": {
      "name": "it_news_content_category.ipynb",
      "provenance": [],
      "collapsed_sections": []
    },
    "kernelspec": {
      "name": "python3",
      "display_name": "Python 3"
    }
  },
  "cells": [
    {
      "cell_type": "code",
      "metadata": {
        "id": "64lb59mPm_lR",
        "colab_type": "code",
        "colab": {
          "base_uri": "https://localhost:8080/",
          "height": 34
        },
        "outputId": "873a7a19-d51d-4a07-95cb-1a433bdd8079"
      },
      "source": [
        "from google.colab import drive\n",
        "drive.mount('/content/drive')"
      ],
      "execution_count": 1,
      "outputs": [
        {
          "output_type": "stream",
          "text": [
            "Drive already mounted at /content/drive; to attempt to forcibly remount, call drive.mount(\"/content/drive\", force_remount=True).\n"
          ],
          "name": "stdout"
        }
      ]
    },
    {
      "cell_type": "code",
      "metadata": {
        "id": "8RM-eg0dEiao",
        "colab_type": "code",
        "colab": {}
      },
      "source": [
        "from tensorflow.keras.models import Sequential, Model\n",
        "from tensorflow.keras.layers import Embedding, Conv1D, GlobalMaxPooling1D, Dense, Flatten, Concatenate, Input, LSTM\n",
        "from tensorflow.keras.utils import to_categorical\n",
        "from tensorflow.keras.preprocessing.sequence import pad_sequences\n",
        "\n",
        "import pandas as pd"
      ],
      "execution_count": 2,
      "outputs": []
    },
    {
      "cell_type": "markdown",
      "metadata": {
        "id": "ydbQv_xFFQQN",
        "colab_type": "text"
      },
      "source": [
        "# 데이터 로드 및 전처리"
      ]
    },
    {
      "cell_type": "code",
      "metadata": {
        "id": "q7LgP7bOgmcX",
        "colab_type": "code",
        "colab": {
          "base_uri": "https://localhost:8080/",
          "height": 670
        },
        "outputId": "5ad85d9c-c193-4cf7-d498-8ae4ce3e213b"
      },
      "source": [
        "\n",
        "news_data = pd.read_csv('/content/drive/My Drive/result_0916.csv')\n",
        "\n",
        "news_data=news_data.rename(columns={\"small_category\":'category'})\n",
        "news_data=news_data.dropna(axis=0)\n",
        "news_data.reset_index(drop=True, inplace=True)\n",
        "news_data"
      ],
      "execution_count": 3,
      "outputs": [
        {
          "output_type": "execute_result",
          "data": {
            "text/html": [
              "<div>\n",
              "<style scoped>\n",
              "    .dataframe tbody tr th:only-of-type {\n",
              "        vertical-align: middle;\n",
              "    }\n",
              "\n",
              "    .dataframe tbody tr th {\n",
              "        vertical-align: top;\n",
              "    }\n",
              "\n",
              "    .dataframe thead th {\n",
              "        text-align: right;\n",
              "    }\n",
              "</style>\n",
              "<table border=\"1\" class=\"dataframe\">\n",
              "  <thead>\n",
              "    <tr style=\"text-align: right;\">\n",
              "      <th></th>\n",
              "      <th>link</th>\n",
              "      <th>title</th>\n",
              "      <th>date</th>\n",
              "      <th>content</th>\n",
              "      <th>tag</th>\n",
              "      <th>big_category</th>\n",
              "      <th>category</th>\n",
              "    </tr>\n",
              "  </thead>\n",
              "  <tbody>\n",
              "    <tr>\n",
              "      <th>0</th>\n",
              "      <td>http://it.chosun.com/site/data/html_dir/2020/0...</td>\n",
              "      <td>한컴위드·네이버, '사설인증 사업 협력'을 위한 업무협약 체결</td>\n",
              "      <td>2020.09.15</td>\n",
              "      <td>[&lt;div class=\"par\"&gt;투명 디스플레이 제조업체 레온이 일본 나리타국제공항...</td>\n",
              "      <td>레온,투명디스플레이,초박형,나리타공항,이온몰</td>\n",
              "      <td>기업</td>\n",
              "      <td>반도체·디스플레이</td>\n",
              "    </tr>\n",
              "    <tr>\n",
              "      <th>1</th>\n",
              "      <td>http://it.chosun.com/site/data/html_dir/2020/0...</td>\n",
              "      <td>[기자방담] 자동차 배출가스 규제안, 이대로 괜찮나?</td>\n",
              "      <td>2020.09.15</td>\n",
              "      <td>[&lt;div class=\"par\"&gt;한글과컴퓨터그룹&lt;span style=\"font-si...</td>\n",
              "      <td>한컴위드,한글과컴퓨터,네이버,한컴패스,애니핀,사설인증사업</td>\n",
              "      <td>기업</td>\n",
              "      <td>컴퓨팅·IT서비스</td>\n",
              "    </tr>\n",
              "    <tr>\n",
              "      <th>2</th>\n",
              "      <td>http://it.chosun.com/site/data/html_dir/2020/0...</td>\n",
              "      <td>\"뒷차 램프 특이하면 현대차일 것\"</td>\n",
              "      <td>2020.09.15</td>\n",
              "      <td>[&lt;div class=\"par\"&gt;크라우드 펀딩 플랫폼 와디즈가 건강 먹거리를 선보일...</td>\n",
              "      <td>와디즈,한국야쿠르트,푸드스타트업,스타트업,스타트프레시업,인큐베이팅</td>\n",
              "      <td>기업</td>\n",
              "      <td>중기·벤처</td>\n",
              "    </tr>\n",
              "    <tr>\n",
              "      <th>3</th>\n",
              "      <td>http://it.chosun.com/site/data/html_dir/2020/0...</td>\n",
              "      <td>넷킬러, 구글 드라이브 문서 외부 공유 탐지 솔루션 선봬</td>\n",
              "      <td>2020.09.15</td>\n",
              "      <td>[&lt;div class=\"par\"&gt;\"투싼은 현대차 SUV 중에서도 가장 중요한 차라고...</td>\n",
              "      <td>자동차,국산차,현대자동차,투싼,신형투싼,투싼디자인,이상엽</td>\n",
              "      <td>자동차</td>\n",
              "      <td>일반</td>\n",
              "    </tr>\n",
              "    <tr>\n",
              "      <th>4</th>\n",
              "      <td>http://it.chosun.com/site/data/html_dir/2020/0...</td>\n",
              "      <td>[게임브리핑] '겜밍아웃'하고 청소년 돕는 '아이머게이머 챌린지' 진행 외 (9월 ...</td>\n",
              "      <td>2020.09.15</td>\n",
              "      <td>[&lt;div class=\"par\"&gt;구글 클라우드 솔루션 전문기업 넷킬러가 구글 지스위...</td>\n",
              "      <td>넷킬러,구글지스위트,넷킬러dlp,문서공유,외부링크공유,문서보안,문서현황파악,기밀유출...</td>\n",
              "      <td>기업</td>\n",
              "      <td>컴퓨팅·IT서비스</td>\n",
              "    </tr>\n",
              "    <tr>\n",
              "      <th>...</th>\n",
              "      <td>...</td>\n",
              "      <td>...</td>\n",
              "      <td>...</td>\n",
              "      <td>...</td>\n",
              "      <td>...</td>\n",
              "      <td>...</td>\n",
              "      <td>...</td>\n",
              "    </tr>\n",
              "    <tr>\n",
              "      <th>12414</th>\n",
              "      <td>http://it.chosun.com/site/data/html_dir/2019/0...</td>\n",
              "      <td>니콘, 35mm 미러리스 Z7&amp;Z6; 가이드북 출간</td>\n",
              "      <td>2019.03.07</td>\n",
              "      <td>[&lt;div class=\"par\"&gt;카카오게임즈는 사이게임즈에서 개발한 모바일 애니메이...</td>\n",
              "      <td>카카오게임즈,모바일게임,프린세스</td>\n",
              "      <td>게임·라이프</td>\n",
              "      <td>게임·인터넷</td>\n",
              "    </tr>\n",
              "    <tr>\n",
              "      <th>12415</th>\n",
              "      <td>http://it.chosun.com/site/data/html_dir/2019/0...</td>\n",
              "      <td>KB국민은행, 1680억원 규모 미국 가스발전소 PF 공동주선</td>\n",
              "      <td>2019.03.07</td>\n",
              "      <td>[&lt;div class=\"par\"&gt;니콘이미징코리아는 7일 35㎜ 미러리스 Z시리즈를 ...</td>\n",
              "      <td>니콘이미징코리아,35mm,z7,z6,미러리스,가이드북,이벤트,캐시백</td>\n",
              "      <td>기업</td>\n",
              "      <td>PC·가전·모바일</td>\n",
              "    </tr>\n",
              "    <tr>\n",
              "      <th>12416</th>\n",
              "      <td>http://it.chosun.com/site/data/html_dir/2019/0...</td>\n",
              "      <td>닌텐도 스위치로 가상현실 게임 즐겨요…'라보(Labo) VR 키트' 4월 발매</td>\n",
              "      <td>2019.03.07</td>\n",
              "      <td>[&lt;div class=\"par\"&gt;KB국민은행은 1억5000만달러(약 1680억원) ...</td>\n",
              "      <td>IT조선, itchosun, IT조선, 금융·핀테크</td>\n",
              "      <td>기업</td>\n",
              "      <td>금융·핀테크</td>\n",
              "    </tr>\n",
              "    <tr>\n",
              "      <th>12417</th>\n",
              "      <td>http://it.chosun.com/site/data/html_dir/2019/0...</td>\n",
              "      <td>모바일 MMORPG ‘마스터탱커’ 3월 11일 정식서비스 확정</td>\n",
              "      <td>2019.03.07</td>\n",
              "      <td>[&lt;div class=\"par\"&gt;한국닌텐도는 오는 4월 12일 ‘닌텐도 라보(Nin...</td>\n",
              "      <td>한국닌텐도,라보,vr,닌텐도스위치</td>\n",
              "      <td>게임·라이프</td>\n",
              "      <td>게임·인터넷</td>\n",
              "    </tr>\n",
              "    <tr>\n",
              "      <th>12418</th>\n",
              "      <td>http://it.chosun.com/site/data/html_dir/2019/0...</td>\n",
              "      <td>[전자책 시대] ②충동구매해도 후회없다</td>\n",
              "      <td>2019.03.07</td>\n",
              "      <td>[&lt;div class=\"par\"&gt;웹젠은 신작 모바일 다중접속역할수행게임(MMORPG...</td>\n",
              "      <td>마스터탱커,웹젠,모바일게임,중국</td>\n",
              "      <td>게임·라이프</td>\n",
              "      <td>게임·인터넷</td>\n",
              "    </tr>\n",
              "  </tbody>\n",
              "</table>\n",
              "<p>12419 rows × 7 columns</p>\n",
              "</div>"
            ],
            "text/plain": [
              "                                                    link  ...   category\n",
              "0      http://it.chosun.com/site/data/html_dir/2020/0...  ...  반도체·디스플레이\n",
              "1      http://it.chosun.com/site/data/html_dir/2020/0...  ...  컴퓨팅·IT서비스\n",
              "2      http://it.chosun.com/site/data/html_dir/2020/0...  ...      중기·벤처\n",
              "3      http://it.chosun.com/site/data/html_dir/2020/0...  ...         일반\n",
              "4      http://it.chosun.com/site/data/html_dir/2020/0...  ...  컴퓨팅·IT서비스\n",
              "...                                                  ...  ...        ...\n",
              "12414  http://it.chosun.com/site/data/html_dir/2019/0...  ...     게임·인터넷\n",
              "12415  http://it.chosun.com/site/data/html_dir/2019/0...  ...  PC·가전·모바일\n",
              "12416  http://it.chosun.com/site/data/html_dir/2019/0...  ...     금융·핀테크\n",
              "12417  http://it.chosun.com/site/data/html_dir/2019/0...  ...     게임·인터넷\n",
              "12418  http://it.chosun.com/site/data/html_dir/2019/0...  ...     게임·인터넷\n",
              "\n",
              "[12419 rows x 7 columns]"
            ]
          },
          "metadata": {
            "tags": []
          },
          "execution_count": 3
        }
      ]
    },
    {
      "cell_type": "code",
      "metadata": {
        "id": "sU1H11m_tAqU",
        "colab_type": "code",
        "colab": {
          "base_uri": "https://localhost:8080/",
          "height": 52
        },
        "outputId": "7b9a0f1d-26aa-411f-ce77-6ba2a43ac2d1"
      },
      "source": [
        "news_data['big_category'].unique()"
      ],
      "execution_count": 4,
      "outputs": [
        {
          "output_type": "execute_result",
          "data": {
            "text/plain": [
              "array(['기업', '자동차', '게임·라이프', '기술', '사람', '전체 기사', '뉴스', '칼럼·해설'],\n",
              "      dtype=object)"
            ]
          },
          "metadata": {
            "tags": []
          },
          "execution_count": 4
        }
      ]
    },
    {
      "cell_type": "markdown",
      "metadata": {
        "id": "YkLbQsGT4DF7",
        "colab_type": "text"
      },
      "source": [
        "\n",
        "================================================\n",
        "\n",
        "<기술>\n",
        "- 공통 --> 일반\n",
        "- 기술 --> 과학·기술 , 보안 , 로봇·드론·VR\n",
        "\n",
        "=================================================\n",
        "\n",
        "<게임·라이프>\n",
        "- 문화/예술 --> 미디어·엔터테인먼트, 게임·인터넷\n",
        "- 사회 --> 유통·쇼핑, 키덜트·키즈, 일반\n",
        "\n",
        "=======================================================\n",
        "\n",
        "<기업>\n",
        "- 일반, 중기·벤처, 산업일반, 중공업 제거\n",
        "\n",
        "- 공통 --> 컴퓨팅·IT서비스, 방송·통신, 외신\n",
        "- 경제 --> 금융·핀테크\n",
        "- 건강 --> 헬스케어·바이오\n",
        "- 기술 --> PC·가전·모바일, 반도체·디스플레이\n"
      ]
    },
    {
      "cell_type": "code",
      "metadata": {
        "id": "WZbe5Gd3tLTc",
        "colab_type": "code",
        "colab": {
          "base_uri": "https://localhost:8080/",
          "height": 52
        },
        "outputId": "8a419070-94f7-4b65-94fe-be3554e543b5"
      },
      "source": [
        "tech=news_data[news_data['big_category'] == '기술'].index ################# 기술\n",
        "news_data.iloc[tech].category.unique()  # '과학·기술', '일반', '로봇·드론·VR', '보안'\n",
        "\n",
        "game_life=news_data[news_data['big_category'] == '게임·라이프'].index\n",
        "news_data.iloc[game_life].category.unique() #'미디어·엔터테인먼트', '게임·인터넷', '유통·쇼핑', '일반', '키덜트·키즈'\n",
        "\n",
        "company=news_data[news_data['big_category'] == '기업'].index \n",
        "news_data.iloc[company].category.unique() #'일반', '컴퓨팅·IT서비스', 'PC·가전·모바일', '금융·핀테크', '중기·벤처', '반도체·디스플레이', '헬스케어·바이오', '외신', '방송·통신', '산업일반', '중공업'\n"
      ],
      "execution_count": 5,
      "outputs": [
        {
          "output_type": "execute_result",
          "data": {
            "text/plain": [
              "array(['반도체·디스플레이', '컴퓨팅·IT서비스', '중기·벤처', '금융·핀테크', '방송·통신', 'PC·가전·모바일',\n",
              "       '외신', '헬스케어·바이오', '중공업', '일반', '산업일반'], dtype=object)"
            ]
          },
          "metadata": {
            "tags": []
          },
          "execution_count": 5
        }
      ]
    },
    {
      "cell_type": "markdown",
      "metadata": {
        "id": "pLOtfw6LICWm",
        "colab_type": "text"
      },
      "source": [
        "\n",
        "카테고리 삭제"
      ]
    },
    {
      "cell_type": "code",
      "metadata": {
        "id": "dQcLeMH3rBDO",
        "colab_type": "code",
        "colab": {}
      },
      "source": [
        "news_data['category'].value_counts()\n",
        "\n",
        "drop1=news_data[news_data['big_category'] == '자동차'].index\n",
        "news_data=news_data.drop(drop1)\n",
        "drop2=news_data[news_data['big_category'] == '칼럼·해설'].index\n",
        "news_data=news_data.drop(drop2)\n",
        "drop2=news_data[news_data['big_category'] == '사람'].index\n",
        "news_data=news_data.drop(drop2)\n",
        "drop2=news_data[news_data['big_category'] == '전체 기사'].index\n",
        "news_data=news_data.drop(drop2)\n",
        "drop2=news_data[news_data['big_category'] == '뉴스'].index\n",
        "news_data=news_data.drop(drop2)\n",
        "drop2 = news_data[(news_data['big_category']=='기업') & (news_data['category']=='일반')].index\n",
        "news_data=news_data.drop(drop2)\n",
        "drop2 = news_data[(news_data['big_category']=='기업') & (news_data['category']=='중기·벤처')].index\n",
        "news_data=news_data.drop(drop2)\n",
        "drop2 = news_data[(news_data['big_category']=='기업') & (news_data['category']=='산업일반')].index\n",
        "news_data=news_data.drop(drop2)\n",
        "drop2 = news_data[(news_data['big_category']=='기업') & (news_data['category']=='중공업')].index\n",
        "news_data=news_data.drop(drop2)\n",
        "\n",
        "\n",
        "news_data.reset_index(drop=True, inplace=True)"
      ],
      "execution_count": 6,
      "outputs": []
    },
    {
      "cell_type": "markdown",
      "metadata": {
        "id": "RbCdXGVQIIk2",
        "colab_type": "text"
      },
      "source": [
        "팀메이트에 맞는 카테고리로 변환 --> 교육이 없음ㅠㅠ"
      ]
    },
    {
      "cell_type": "code",
      "metadata": {
        "id": "5qjk1Hat3g5m",
        "colab_type": "code",
        "colab": {
          "base_uri": "https://localhost:8080/",
          "height": 105
        },
        "outputId": "c00c1f85-f74f-4b0d-d7b7-d8019f2662e4"
      },
      "source": [
        "import numpy as np\n",
        "\n",
        "news_data['team_category'] = np.nan\n",
        "news_data['team_category'][news_data[(news_data['big_category']=='기술') & (news_data['category']=='과학·기술')].index]='기술'\n",
        "\n",
        "news_data['team_category'][news_data[(news_data['big_category']=='기술') & (news_data['category']=='보안')].index] = '기술'\n",
        "news_data['team_category'][news_data[(news_data['big_category']=='기술') & (news_data['category']=='로봇·드론·VR')].index] = '기술'\n",
        "news_data['team_category'][news_data[(news_data['big_category']=='기술') & (news_data['category']=='일반')].index]= '공통'\n",
        "\n",
        "news_data['team_category'][news_data[(news_data['big_category']=='게임·라이프') & (news_data['category']=='미디어·엔터테인먼트')].index]= '문화/예술'\n",
        "news_data['team_category'][news_data[(news_data['big_category']=='게임·라이프') & (news_data['category']=='게임·인터넷')].index] = '문화/예술'\n",
        "news_data['team_category'][news_data[(news_data['big_category']=='게임·라이프') & (news_data['category']=='유통·쇼핑')].index] = '사회'\n",
        "news_data['team_category'][news_data[(news_data['big_category']=='게임·라이프') & (news_data['category']=='키덜트·키즈')].index] = '사회'\n",
        "news_data['team_category'][news_data[(news_data['big_category']=='게임·라이프') & (news_data['category']=='일반')].index] = '사회'\n",
        "\n",
        "news_data['team_category'][news_data[(news_data['big_category']=='기업') & (news_data['category']=='컴퓨팅·IT서비스')].index] = '공통'\n",
        "news_data['team_category'][news_data[(news_data['big_category']=='기업') & (news_data['category']=='방송·통신')].index] = '공통'\n",
        "news_data['team_category'][news_data[(news_data['big_category']=='기업') & (news_data['category']=='외신')].index]= '공통'\n",
        "news_data['team_category'][news_data[(news_data['big_category']=='기업') & (news_data['category']=='금융·핀테크')].index] = '경제'\n",
        "news_data['team_category'][news_data[(news_data['big_category']=='기업') & (news_data['category']=='헬스케어·바이오')].index]= '건강'\n",
        "news_data['team_category'][news_data[(news_data['big_category']=='기업') & (news_data['category']=='PC·가전·모바일')].index]= '기술'\n",
        "news_data['team_category'][news_data[(news_data['big_category']=='기업') & (news_data['category']=='반도체·디스플레이')].index] = '기술'\n",
        "\n"
      ],
      "execution_count": 7,
      "outputs": [
        {
          "output_type": "stream",
          "text": [
            "/usr/local/lib/python3.6/dist-packages/ipykernel_launcher.py:4: SettingWithCopyWarning: \n",
            "A value is trying to be set on a copy of a slice from a DataFrame\n",
            "\n",
            "See the caveats in the documentation: https://pandas.pydata.org/pandas-docs/stable/user_guide/indexing.html#returning-a-view-versus-a-copy\n",
            "  after removing the cwd from sys.path.\n"
          ],
          "name": "stderr"
        }
      ]
    },
    {
      "cell_type": "code",
      "metadata": {
        "id": "fBTVtijj6sBa",
        "colab_type": "code",
        "colab": {
          "base_uri": "https://localhost:8080/",
          "height": 228
        },
        "outputId": "14162ed5-5051-4839-92fd-79d0d25eae53"
      },
      "source": [
        "news_data.isna().sum()\n",
        "news_data['team_category']"
      ],
      "execution_count": 8,
      "outputs": [
        {
          "output_type": "execute_result",
          "data": {
            "text/plain": [
              "0          기술\n",
              "1          공통\n",
              "2          공통\n",
              "3       문화/예술\n",
              "4          경제\n",
              "        ...  \n",
              "9127    문화/예술\n",
              "9128       기술\n",
              "9129       경제\n",
              "9130    문화/예술\n",
              "9131    문화/예술\n",
              "Name: team_category, Length: 9132, dtype: object"
            ]
          },
          "metadata": {
            "tags": []
          },
          "execution_count": 8
        }
      ]
    },
    {
      "cell_type": "code",
      "metadata": {
        "id": "xt_pnlx5r7W5",
        "colab_type": "code",
        "colab": {}
      },
      "source": [
        "# 카테고리 정수 인코딩\n",
        "\n",
        "category_list = pd.factorize(news_data['team_category'])[1]\n",
        "news_data['category'] = pd.factorize(news_data['team_category'])[0]\n",
        "\n",
        "news_data['category'].unique()\n",
        "category_list.nunique()\n",
        "\n",
        "news_data=news_data[['title','content','tag','category']]"
      ],
      "execution_count": 9,
      "outputs": []
    },
    {
      "cell_type": "code",
      "metadata": {
        "id": "DO0B-7ZCIhL3",
        "colab_type": "code",
        "colab": {
          "base_uri": "https://localhost:8080/",
          "height": 140
        },
        "outputId": "5313ab57-2a9b-4409-b73d-1553f6eb58b7"
      },
      "source": [
        "news_data['category'].value_counts() # 6개의 카테고리"
      ],
      "execution_count": 10,
      "outputs": [
        {
          "output_type": "execute_result",
          "data": {
            "text/plain": [
              "1    2814\n",
              "0    2179\n",
              "2    1721\n",
              "3     970\n",
              "4     962\n",
              "5     486\n",
              "Name: category, dtype: int64"
            ]
          },
          "metadata": {
            "tags": []
          },
          "execution_count": 10
        }
      ]
    },
    {
      "cell_type": "markdown",
      "metadata": {
        "id": "uOrTchPaIhXb",
        "colab_type": "text"
      },
      "source": [
        "# 뉴스 제목, 기사 내용, 태그 내용 전처리"
      ]
    },
    {
      "cell_type": "code",
      "metadata": {
        "id": "y060Ub92G8kN",
        "colab_type": "code",
        "colab": {}
      },
      "source": [
        "# 뉴스 제목 전처리, 단어 이외의 문자들은 띄어쓰기로 변경\n",
        "news_data['title'] = news_data['title'].str.replace(\"[^\\w]\", \" \")"
      ],
      "execution_count": 11,
      "outputs": []
    },
    {
      "cell_type": "code",
      "metadata": {
        "id": "-0DWB3bJsvje",
        "colab_type": "code",
        "colab": {
          "base_uri": "https://localhost:8080/",
          "height": 193
        },
        "outputId": "14d89ba9-3f8e-4aee-9c59-c110f81d2ebd"
      },
      "source": [
        "#  기사 내용 전처리, 괄호 단어 뽑기, 괄호 제거, 기호 제거 후 띄어쓰기로 분리 준비\n",
        "\n",
        "import re\n",
        "p = re.compile(r'<.+?>') #html 구조 제거\n",
        "p2 = re.compile(r'\\(([^)]+)') # 괄호 뽑기\n",
        "p3 = re.compile( r'\\([^)]*\\)') # 괄호 제거\n",
        "\n",
        "news_data['regex_content'] = ''\n",
        "news_data['regex_blank'] = ''\n",
        "\n",
        "for n in range(len(news_data['content'])):\n",
        "  sub_content= re.sub(p,'',news_data['content'][n]) #html 구조 제거한 기사 문장\n",
        "  news_data['regex_blank'][n]= p2.findall(news_data['content'][n]) #괄호 단어 뽑은 리스트\n",
        "  sub_content = re.sub(p3,' ',sub_content) #괄호 제거한 기사 문장\n",
        "  sub_content = sub_content.replace(\"[^\\w]\", \" \")\n",
        "  news_data['regex_content'][n] = re.sub('[-=+,#/\\?:^$.@*\\\"※~&%ㆍ·∙!』\\\\’‘|\\(\\)\\[\\]\\<\\>`\\'…》]', ' ', sub_content)\n",
        "  "
      ],
      "execution_count": 12,
      "outputs": [
        {
          "output_type": "stream",
          "text": [
            "/usr/local/lib/python3.6/dist-packages/ipykernel_launcher.py:13: SettingWithCopyWarning: \n",
            "A value is trying to be set on a copy of a slice from a DataFrame\n",
            "\n",
            "See the caveats in the documentation: https://pandas.pydata.org/pandas-docs/stable/user_guide/indexing.html#returning-a-view-versus-a-copy\n",
            "  del sys.path[0]\n",
            "/usr/local/lib/python3.6/dist-packages/ipykernel_launcher.py:16: SettingWithCopyWarning: \n",
            "A value is trying to be set on a copy of a slice from a DataFrame\n",
            "\n",
            "See the caveats in the documentation: https://pandas.pydata.org/pandas-docs/stable/user_guide/indexing.html#returning-a-view-versus-a-copy\n",
            "  app.launch_new_instance()\n"
          ],
          "name": "stderr"
        }
      ]
    },
    {
      "cell_type": "code",
      "metadata": {
        "id": "9uxnlK40GaNL",
        "colab_type": "code",
        "colab": {
          "base_uri": "https://localhost:8080/",
          "height": 105
        },
        "outputId": "f5672ef3-7da0-482d-e38a-4aa24fc8b964"
      },
      "source": [
        "#태그 전처리\n",
        "\n",
        "news_data['tag_1'] = ''\n",
        "\n",
        "for i in range(len(news_data['tag'])) :\n",
        "  news_data['tag_1'][i]= news_data['tag'][i].replace(',',' ')\n",
        "\n",
        "  # .replace(',',' ')"
      ],
      "execution_count": 13,
      "outputs": [
        {
          "output_type": "stream",
          "text": [
            "/usr/local/lib/python3.6/dist-packages/ipykernel_launcher.py:6: SettingWithCopyWarning: \n",
            "A value is trying to be set on a copy of a slice from a DataFrame\n",
            "\n",
            "See the caveats in the documentation: https://pandas.pydata.org/pandas-docs/stable/user_guide/indexing.html#returning-a-view-versus-a-copy\n",
            "  \n"
          ],
          "name": "stderr"
        }
      ]
    },
    {
      "cell_type": "code",
      "metadata": {
        "id": "aX8NzK5qyd4S",
        "colab_type": "code",
        "colab": {
          "base_uri": "https://localhost:8080/",
          "height": 178
        },
        "outputId": "7c6bc2b1-165e-4975-8d8d-1779c3e01c34"
      },
      "source": [
        "news_data['regex_content'][0]"
      ],
      "execution_count": 14,
      "outputs": [
        {
          "output_type": "execute_result",
          "data": {
            "application/vnd.google.colaboratory.intrinsic+json": {
              "type": "string"
            },
            "text/plain": [
              "' 투명 디스플레이 제조업체 레온이 일본 나리타국제공항에 자체 개발한 초박형 투명 디스플레이를 설치했다고 15일 밝혔다   레온은 일본 최대 공항인 나리타국제공항에 가로 2m  세로 5m의 걸개형양면 투명 디스플레이를 설치했다  제1터미널과 제2터미널의 사우스윙  노스윙 출발 로비에 각 1개씩 총 4개를 설치했다  두께는  3㎝  무게는 1㎡당 3 4㎏다  천장에 걸개 형태로 늘어뜨려 부착했고  투명 양면 형태로 디스플레이 양쪽에 서로 다른 영상이 나온다  나리타 공항은 이를 통해 공항 이용자들에게 동영상 광고와 안내문을 표출하고 있다 레온은 2020년 초에도 나리타 국제공항 출입국 보안 검색대 유리 벽면에 투명 디스플레이를 설치했다  제1터미널 사우스윙  노스윙에 각 2개  제2터미널 중앙 출구에 6개 등 총 10개를 설치했다  이 디스플레이는 가로 3 5m  세로 40㎝ 유리 점착 형태로 설치됐다  일본어  한국어  영어  중국어 등 4개 언어로 공항 이용자들에게 동영상과 안내문을 보여준다 레온은 일본 최대 쇼핑몰인 이온몰 본점에도 가로 1m  세로 5m의 걸개형 디스플레이와  가로 12m  세로 1m의 배너형디스플레이를 각각 설치했다  걸개형태는 본사 1층 천장에서 늘어뜨리고  배너형태는 유리 펜스에 점착해 설치했다  이온몰에 설치된 레온의 투명 디스플레이는 일본 NHK를 비롯한 24개 방송 및 언론매체에 소개되기도 했다 일본 도쿄 하라주쿠 내 메이지신궁 앞에 위치한 JING 대형 쇼핑몰에도 레온의 가로 7m  세로 8m의 유리점착형 투명 디스플레이가 설치됐다 레온의 초박형 투명 디스플레이는 9년간 총 300억원을 들여 개발에 성공한 국산 기술이다  PCB가 필름 형태의 투명 모듈로 건물 유리창 안쪽에 붙여  설치하면 실내에서 외부 전경을 그대로 볼 수 있다  얇고 가벼워 건물이나 유리창에 무리를 주지 않고 설치할 수 있다  밝기도 실내용은 1500 2000니트   실외용은3000 5000니트에 달해 흐린 날은 물론 화창한 날에도 선명한 화질을 보여준다 박동순 레온 대표는  순수 국내 제품이 미쓰비시  파나소닉과 같은 일본 대기업과 경합을 뚫고 일본 최대 공항과 최대 쇼핑몰에 설치됐다는 점에서 의미가 깊다 며  일본 시장 확대는 물론 미국 시장에도 진출하겠다 고 말했다  이광영 기자 gwang0e chosunbiz com '"
            ]
          },
          "metadata": {
            "tags": []
          },
          "execution_count": 14
        }
      ]
    },
    {
      "cell_type": "code",
      "metadata": {
        "id": "lW5gzX63JK7G",
        "colab_type": "code",
        "colab": {}
      },
      "source": [
        "# 메캅 사용 X -> split으로 대체\n",
        "########################################## ########################################## ########################################## \n",
        "# ######################                     MECAB 설치 https://sosomemo.tistory.com/31                     ###################### \n",
        "# ########################################## ########################################## ########################################## \n",
        "\n",
        "# !apt-get update\n",
        "# !apt-get install g++ openjdk-8-jdk\n",
        "# !pip3 install konlpy JPype1-py3\n",
        "# !bash <(curl -s https://raw.githubusercontent.com/konlpy/konlpy/master/scripts/mecab.sh)"
      ],
      "execution_count": 15,
      "outputs": []
    },
    {
      "cell_type": "code",
      "metadata": {
        "id": "wjSInQPRa22i",
        "colab_type": "code",
        "colab": {}
      },
      "source": [
        "news_data['headline']=news_data['title'] +' ' + news_data['tag_1'] + ' ' + news_data['regex_content']\n",
        "news_data['headline']\n",
        "\n",
        "# 불용어 제거, 토큰화 진행 --> 띄어쓰기 기준으로 문장 잘라 list에 담기\n",
        "stopwords = ['','또','함께','수','를','을','등','으로','것','약','가','이','즉','은','될','큰','는','로','및','에','그','곧','기자','chosunbiz','며','우리','com','위해','아니라','고','바','와','과','있다','통해','뒤','해','밖에','대한','보다','하는','위한','등을']\n",
        "\n",
        "X_token = []\n",
        "for stc in news_data['headline']:\n",
        "    token = []\n",
        "    words = stc.split()\n",
        "    for word in words:\n",
        "        if word not in stopwords:\n",
        "            token.append(word)\n",
        "    X_token.append(token)\n"
      ],
      "execution_count": 16,
      "outputs": []
    },
    {
      "cell_type": "code",
      "metadata": {
        "id": "wxkHD6uc3D55",
        "colab_type": "code",
        "colab": {
          "base_uri": "https://localhost:8080/",
          "height": 34
        },
        "outputId": "aabb35b7-8ff0-4039-e143-eaf648bfb138"
      },
      "source": [
        "len(X_token),len(news_data['category'])"
      ],
      "execution_count": 17,
      "outputs": [
        {
          "output_type": "execute_result",
          "data": {
            "text/plain": [
              "(9132, 9132)"
            ]
          },
          "metadata": {
            "tags": []
          },
          "execution_count": 17
        }
      ]
    },
    {
      "cell_type": "markdown",
      "metadata": {
        "id": "qfID9DzeKQHN",
        "colab_type": "text"
      },
      "source": [
        "# test, trainset / classification fitting"
      ]
    },
    {
      "cell_type": "code",
      "metadata": {
        "id": "2frf1Kn8G9gC",
        "colab_type": "code",
        "colab": {
          "base_uri": "https://localhost:8080/",
          "height": 52
        },
        "outputId": "230b9915-6623-438e-970c-a124f297b97b"
      },
      "source": [
        "from sklearn.model_selection import train_test_split\n",
        "\n",
        "# split하면서 shuffle 적용\n",
        "X_train, X_test, y_train, y_test = train_test_split(X_token, news_data['category'], test_size=0.2,shuffle=True)\n",
        "\n",
        "# 카테고리 OnehotVector\n",
        "y_train = to_categorical(y_train)\n",
        "y_test = to_categorical(y_test)\n",
        "\n",
        "print(len(y_train[0]))\n",
        "print(len(y_test[0]))\n",
        "\n",
        "# y_train.nunique(), y_test.nunique()"
      ],
      "execution_count": 18,
      "outputs": [
        {
          "output_type": "stream",
          "text": [
            "6\n",
            "6\n"
          ],
          "name": "stdout"
        }
      ]
    },
    {
      "cell_type": "code",
      "metadata": {
        "id": "z2TdBHcwHA7D",
        "colab_type": "code",
        "colab": {}
      },
      "source": [
        "from tensorflow.keras.preprocessing.text import Tokenizer\n",
        "\n",
        "# 헤드라인 정수인코딩\n",
        "tokenizer = Tokenizer(150000) # 가장 빈도가 높은 150000개의 단어만 선택하도록 함\n",
        "tokenizer.fit_on_texts(X_train) #vocabulary 만들기\n",
        "X_train = tokenizer.texts_to_sequences(X_train) # vocabulary랑 매칭해 인덱스로 나타내기, 리스트 변환\n",
        "X_test = tokenizer.texts_to_sequences(X_test)"
      ],
      "execution_count": 19,
      "outputs": []
    },
    {
      "cell_type": "code",
      "metadata": {
        "id": "nBKVMIAPHCXQ",
        "colab_type": "code",
        "colab": {
          "base_uri": "https://localhost:8080/",
          "height": 52
        },
        "outputId": "2d8ec8db-ff69-40cc-8260-c4cce0e6f5f2"
      },
      "source": [
        "print(len(tokenizer.word_index))\n",
        "\n",
        "wc = 0\n",
        "for word, word_count in tokenizer.word_counts.items():\n",
        "    if word_count <= 2:\n",
        "        wc += 1\n",
        "\n",
        "print(wc)"
      ],
      "execution_count": 20,
      "outputs": [
        {
          "output_type": "stream",
          "text": [
            "265264\n",
            "194249\n"
          ],
          "name": "stdout"
        }
      ]
    },
    {
      "cell_type": "code",
      "metadata": {
        "id": "BdmyLiGHHEUx",
        "colab_type": "code",
        "colab": {
          "base_uri": "https://localhost:8080/",
          "height": 265
        },
        "outputId": "12c938e8-65fb-462d-8a89-d03340c9f311"
      },
      "source": [
        "import matplotlib.pyplot as plt # 500단어\n",
        "\n",
        "len_stc = []\n",
        "for data in X_train:\n",
        "    len_stc.append(len(data))\n",
        "\n",
        "y, x, _ = plt.hist(len_stc, bins=100)\n",
        "plt.show()"
      ],
      "execution_count": 21,
      "outputs": [
        {
          "output_type": "display_data",
          "data": {
            "image/png": "[encoded data removed]",
            "text/plain": [
              "<Figure size 432x288 with 1 Axes>"
            ]
          },
          "metadata": {
            "tags": [],
            "needs_background": "light"
          }
        }
      ]
    },
    {
      "cell_type": "code",
      "metadata": {
        "id": "_FlbIpERHFuS",
        "colab_type": "code",
        "colab": {}
      },
      "source": [
        "max_len = 500 # 헤드라인 문장 길이를 보고 맞춰주기 - 패딩\n",
        "X_train = pad_sequences(X_train, maxlen=max_len)\n",
        "X_test = pad_sequences(X_test, maxlen=max_len)"
      ],
      "execution_count": 22,
      "outputs": []
    },
    {
      "cell_type": "code",
      "metadata": {
        "id": "DgB8_3_DHG6b",
        "colab_type": "code",
        "colab": {}
      },
      "source": [
        "model = Sequential()\n",
        "model.add(Embedding(150000, 256))\n",
        "model.add(LSTM(256))\n",
        "model.add(Dense(6, activation='softmax')) #출력개수 6개의 카테고리"
      ],
      "execution_count": 23,
      "outputs": []
    },
    {
      "cell_type": "code",
      "metadata": {
        "id": "loIwsdJhHIKz",
        "colab_type": "code",
        "colab": {
          "base_uri": "https://localhost:8080/",
          "height": 386
        },
        "outputId": "86b17545-9aca-4074-801e-804c19568ac5"
      },
      "source": [
        "model.compile(loss='categorical_crossentropy', optimizer='adam', metrics=['acc'])\n",
        "model.fit(X_train, y_train, validation_data=(X_test, y_test), batch_size=300, epochs=10)\n",
        "\n",
        "#batch_size : 한번의 batch마다 주는 데이터 샘플 사이즈/ 한 번에 모든 데이터를 넣을 수가 없음\n",
        "#iteration \n",
        "# epoch : 전체 데이터 셋에 대해 한 번 학습을 완료한 상태"
      ],
      "execution_count": 24,
      "outputs": [
        {
          "output_type": "stream",
          "text": [
            "Epoch 1/10\n",
            "25/25 [==============================] - 308s 12s/step - loss: 1.6424 - acc: 0.3235 - val_loss: 1.4782 - val_acc: 0.4083\n",
            "Epoch 2/10\n",
            "25/25 [==============================] - 306s 12s/step - loss: 1.1016 - acc: 0.6225 - val_loss: 1.2179 - val_acc: 0.6300\n",
            "Epoch 3/10\n",
            "25/25 [==============================] - 309s 12s/step - loss: 0.5229 - acc: 0.8465 - val_loss: 0.7164 - val_acc: 0.7657\n",
            "Epoch 4/10\n",
            "25/25 [==============================] - 306s 12s/step - loss: 0.1143 - acc: 0.9682 - val_loss: 0.6846 - val_acc: 0.7860\n",
            "Epoch 5/10\n",
            "25/25 [==============================] - 307s 12s/step - loss: 0.0289 - acc: 0.9941 - val_loss: 0.7330 - val_acc: 0.7739\n",
            "Epoch 6/10\n",
            "25/25 [==============================] - 304s 12s/step - loss: 0.0103 - acc: 0.9990 - val_loss: 0.7908 - val_acc: 0.7975\n",
            "Epoch 7/10\n",
            "25/25 [==============================] - 306s 12s/step - loss: 0.0043 - acc: 0.9992 - val_loss: 0.8148 - val_acc: 0.7947\n",
            "Epoch 8/10\n",
            "25/25 [==============================] - 304s 12s/step - loss: 0.0026 - acc: 0.9997 - val_loss: 0.8294 - val_acc: 0.8101\n",
            "Epoch 9/10\n",
            "25/25 [==============================] - 306s 12s/step - loss: 0.0012 - acc: 1.0000 - val_loss: 0.8639 - val_acc: 0.8144\n",
            "Epoch 10/10\n",
            "25/25 [==============================] - 304s 12s/step - loss: 8.5597e-04 - acc: 0.9999 - val_loss: 0.9049 - val_acc: 0.8024\n"
          ],
          "name": "stdout"
        },
        {
          "output_type": "execute_result",
          "data": {
            "text/plain": [
              "<tensorflow.python.keras.callbacks.History at 0x7fd67e019780>"
            ]
          },
          "metadata": {
            "tags": []
          },
          "execution_count": 24
        }
      ]
    },
    {
      "cell_type": "markdown",
      "metadata": {
        "id": "iNwtSY7Z5XpD",
        "colab_type": "text"
      },
      "source": [
        "# AI타임즈 최근 뉴스120개 분류해보기"
      ]
    },
    {
      "cell_type": "code",
      "metadata": {
        "id": "wdmAkCntn3o6",
        "colab_type": "code",
        "colab": {}
      },
      "source": [
        "test_csv=pd.read_csv('/content/drive/My Drive/times_content.csv')\n",
        "test_list =pd.read_csv('/content/drive/My Drive/AItimes_list.csv')\n",
        "\n",
        "times_data= pd.merge(test_csv, test_list,on='link')\n",
        "times_data = times_data[['tag','content','title']]"
      ],
      "execution_count": 33,
      "outputs": []
    },
    {
      "cell_type": "code",
      "metadata": {
        "id": "DIQ3v8ko9wi0",
        "colab_type": "code",
        "colab": {
          "base_uri": "https://localhost:8080/",
          "height": 570
        },
        "outputId": "a097c491-9b35-4c2a-b688-deee4555ab77"
      },
      "source": [
        "times_data"
      ],
      "execution_count": 34,
      "outputs": [
        {
          "output_type": "execute_result",
          "data": {
            "text/html": [
              "<div>\n",
              "<style scoped>\n",
              "    .dataframe tbody tr th:only-of-type {\n",
              "        vertical-align: middle;\n",
              "    }\n",
              "\n",
              "    .dataframe tbody tr th {\n",
              "        vertical-align: top;\n",
              "    }\n",
              "\n",
              "    .dataframe thead th {\n",
              "        text-align: right;\n",
              "    }\n",
              "</style>\n",
              "<table border=\"1\" class=\"dataframe\">\n",
              "  <thead>\n",
              "    <tr style=\"text-align: right;\">\n",
              "      <th></th>\n",
              "      <th>tag</th>\n",
              "      <th>content</th>\n",
              "      <th>title</th>\n",
              "    </tr>\n",
              "  </thead>\n",
              "  <tbody>\n",
              "    <tr>\n",
              "      <th>0</th>\n",
              "      <td>엔비디아,ARM,소프트뱅크,GPU,CPU,반도체</td>\n",
              "      <td>[&lt;p&gt;결국 엔비디아가 ARM을 인수했다. 인수액은 400억달러(약 47조원). 전...</td>\n",
              "      <td>엔비디아, ARM 인수 '확정'…젠슨 황, \"AI 시대를 위한 결정\"</td>\n",
              "    </tr>\n",
              "    <tr>\n",
              "      <th>1</th>\n",
              "      <td>NaN</td>\n",
              "      <td>[&lt;p&gt;광주와 전남지역을 합쳐 하나의 지방자치단체를 만들자는 '광주·전남 행정통합'...</td>\n",
              "      <td>광주·전남 행정 통합 논의 시동 걸었다</td>\n",
              "    </tr>\n",
              "    <tr>\n",
              "      <th>2</th>\n",
              "      <td>NaN</td>\n",
              "      <td>[&lt;p&gt; &lt;/p&gt;, &lt;p&gt;1조원의 예산이 투입되는 AI 중심 산업융합 집적단지가 광...</td>\n",
              "      <td>[Monday News] 'AI 중심도시 광주' 이것이 풀어야 할 과제다 ④ 광주 ...</td>\n",
              "    </tr>\n",
              "    <tr>\n",
              "      <th>3</th>\n",
              "      <td>5G,전자파,전자기파,전파,무선통신,이동통신,과기정통부</td>\n",
              "      <td>[&lt;p&gt;국립전파연구원이 전자파에 대한 올바른 정보를 제공한다. 온라인 포럼을 통해 ...</td>\n",
              "      <td>인체에 유해한 전자파?…국립전파연구원, '팩트체크' 자리 마련</td>\n",
              "    </tr>\n",
              "    <tr>\n",
              "      <th>4</th>\n",
              "      <td>NaN</td>\n",
              "      <td>[&lt;p&gt;삼성전기가 초소형 파워인덕터를 개발했다. &lt;/p&gt;, &lt;p&gt;파워인덕터는 반도체...</td>\n",
              "      <td>삼성전기, 초소형 파워인덕터 개발…엣지 AI 소형화 가속</td>\n",
              "    </tr>\n",
              "    <tr>\n",
              "      <th>...</th>\n",
              "      <td>...</td>\n",
              "      <td>...</td>\n",
              "      <td>...</td>\n",
              "    </tr>\n",
              "    <tr>\n",
              "      <th>115</th>\n",
              "      <td>국립전파연구원,국제전기통신연합,ITU,ITU-T,SG17,양자암호통신,정보보호,국제...</td>\n",
              "      <td>[&lt;p&gt;국제표준기구가 국내 연구진 주도로 제안한 정보보호 분야 표준안 8건을 국제 ...</td>\n",
              "      <td>국내 주도 ICT 보안 표준안 8건 '국제 표준' 채택</td>\n",
              "    </tr>\n",
              "    <tr>\n",
              "      <th>116</th>\n",
              "      <td>NaN</td>\n",
              "      <td>[&lt;p&gt;4족 보행 로봇 ‘스폿(Spot)’이 코로나19 최전방에서 고생하는 의료진에...</td>\n",
              "      <td>로봇견 ‘스폿’, 코로나19 최전방서 의료진 도와 활약할까</td>\n",
              "    </tr>\n",
              "    <tr>\n",
              "      <th>117</th>\n",
              "      <td>산업통상자원부,인공지능반도체,AI반도체,자율주행차,사물인터넷,IoT,바이오,로봇,미세공정</td>\n",
              "      <td>[&lt;p&gt;정부가 인공지능(AI) 반도체 상용화를 목표로 관련 기술 개발에 착수한다. ...</td>\n",
              "      <td>산업부, AI 반도체 상용화 위한 기술 개발 추진… 미래차ㆍIoT 등에 적용한다</td>\n",
              "    </tr>\n",
              "    <tr>\n",
              "      <th>118</th>\n",
              "      <td>한국인공지능학회,인공지능,AI,인공지능대학원,AI대학원,바이오의료,신경과학,컴퓨터비전</td>\n",
              "      <td>[&lt;p&gt;한국인공지능학회(학회장 유창동)는 인공지능(AI) 연구자의 학술 교류 및 최...</td>\n",
              "      <td>한국인공지능학회, '2020년 하계학술대회' 열어 AI 연구 조망</td>\n",
              "    </tr>\n",
              "    <tr>\n",
              "      <th>119</th>\n",
              "      <td>NaN</td>\n",
              "      <td>[&lt;p&gt;마스크 착용 여부와 체온을 측정해 코로나19 방역 관리 효율을 높일 수 있는...</td>\n",
              "      <td>\"턱스크 잡는다\"...LG U+, ‘AIㆍ5G 방역로봇’ 개발</td>\n",
              "    </tr>\n",
              "  </tbody>\n",
              "</table>\n",
              "<p>120 rows × 3 columns</p>\n",
              "</div>"
            ],
            "text/plain": [
              "                                                   tag  ...                                              title\n",
              "0                           엔비디아,ARM,소프트뱅크,GPU,CPU,반도체  ...             엔비디아, ARM 인수 '확정'…젠슨 황, \"AI 시대를 위한 결정\"\n",
              "1                                                  NaN  ...                              광주·전남 행정 통합 논의 시동 걸었다\n",
              "2                                                  NaN  ...  [Monday News] 'AI 중심도시 광주' 이것이 풀어야 할 과제다 ④ 광주 ...\n",
              "3                       5G,전자파,전자기파,전파,무선통신,이동통신,과기정통부  ...                 인체에 유해한 전자파?…국립전파연구원, '팩트체크' 자리 마련\n",
              "4                                                  NaN  ...                    삼성전기, 초소형 파워인덕터 개발…엣지 AI 소형화 가속\n",
              "..                                                 ...  ...                                                ...\n",
              "115  국립전파연구원,국제전기통신연합,ITU,ITU-T,SG17,양자암호통신,정보보호,국제...  ...                     국내 주도 ICT 보안 표준안 8건 '국제 표준' 채택\n",
              "116                                                NaN  ...                   로봇견 ‘스폿’, 코로나19 최전방서 의료진 도와 활약할까\n",
              "117  산업통상자원부,인공지능반도체,AI반도체,자율주행차,사물인터넷,IoT,바이오,로봇,미세공정  ...       산업부, AI 반도체 상용화 위한 기술 개발 추진… 미래차ㆍIoT 등에 적용한다\n",
              "118    한국인공지능학회,인공지능,AI,인공지능대학원,AI대학원,바이오의료,신경과학,컴퓨터비전  ...               한국인공지능학회, '2020년 하계학술대회' 열어 AI 연구 조망\n",
              "119                                                NaN  ...                 \"턱스크 잡는다\"...LG U+, ‘AIㆍ5G 방역로봇’ 개발\n",
              "\n",
              "[120 rows x 3 columns]"
            ]
          },
          "metadata": {
            "tags": []
          },
          "execution_count": 34
        }
      ]
    },
    {
      "cell_type": "code",
      "metadata": {
        "id": "-ZxQxoUxiXXG",
        "colab_type": "code",
        "colab": {
          "base_uri": "https://localhost:8080/",
          "height": 228
        },
        "outputId": "aacc8bae-1916-4566-c568-336f2e421706"
      },
      "source": [
        "# 뉴스 제목 전처리, 단어 이외의 문자들은 띄어쓰기로 변경\n",
        "times_data['title'] = times_data['title'].str.replace(\"[^\\w]\", \" \")\n",
        "\n",
        "# 기사 내용 전처리, 괄호 단어 뽑기, 괄호 제거 후 띄어쓰기\n",
        "import re\n",
        "p = re.compile(r'<.+?>') #html 구조 제거\n",
        "p2 = re.compile(r'\\(([^)]+)') # 괄호 뽑기\n",
        "p3 = re.compile( r'\\([^)]*\\)') # 괄호 제거\n",
        "\n",
        "times_data['regex_content'] = ''\n",
        "times_data['regex_blank'] = ''\n",
        "\n",
        "for n in range(len(times_data['content'])):\n",
        "  sub_content= re.sub(p,'',times_data['content'][n]) #html 구조 제거한 기사 문장\n",
        "  times_data['regex_blank'][n]= p2.findall(times_data['content'][n]) #괄호 단어 뽑은 리스트\n",
        "  sub_content = re.sub(p3,' ',sub_content) #괄호 제거한 기사 문장\n",
        "  sub_content = sub_content.replace(\"[^\\w]\", \" \")\n",
        "  times_data['regex_content'][n] = re.sub('[-=+,#/\\?:^$.@*\\\"※~&%ㆍ·∙!』\\\\’‘|\\(\\)\\[\\]\\<\\>`\\'…》]', ' ', sub_content)\n",
        "\n",
        "times_data['regex_content']\n",
        "\n",
        "# 태그 내용 전처리\n",
        "\n",
        "times_data['tag_1'] = ''\n",
        "for i in range(len(times_data['tag'])) :\n",
        "  if times_data['tag'].isnull()[i]: times_data['tag_1'][i] = \"\"\n",
        "  else : times_data['tag_1'][i]= times_data['tag'][i].replace(',',' ')\n",
        "\n",
        "  \n",
        "times_data['headline']=times_data['title'] +' ' + times_data['tag_1'] + ' ' + times_data['regex_content']\n",
        "times_data['headline']"
      ],
      "execution_count": 35,
      "outputs": [
        {
          "output_type": "execute_result",
          "data": {
            "text/plain": [
              "0      엔비디아  ARM 인수  확정  젠슨 황   AI 시대를 위한 결정  엔비디아 AR...\n",
              "1      광주 전남 행정 통합 논의 시동 걸었다   광주와 전남지역을 합쳐 하나의 지방자치단...\n",
              "2       Monday News   AI 중심도시 광주  이것이 풀어야 할 과제다 ④ 광주 ...\n",
              "3      인체에 유해한 전자파  국립전파연구원   팩트체크  자리 마련 5G 전자파 전자기파...\n",
              "4      삼성전기  초소형 파워인덕터 개발 엣지 AI 소형화 가속   삼성전기가 초소형 파워...\n",
              "                             ...                        \n",
              "115    국내 주도 ICT 보안 표준안 8건  국제 표준  채택 국립전파연구원 국제전기통신연...\n",
              "116    로봇견  스폿   코로나19 최전방서 의료진 도와 활약할까   4족 보행 로봇  스...\n",
              "117    산업부  AI 반도체 상용화 위한 기술 개발 추진  미래차ㆍIoT 등에 적용한다 산...\n",
              "118    한국인공지능학회   2020년 하계학술대회  열어 AI 연구 조망 한국인공지능학회 ...\n",
              "119     턱스크 잡는다    LG U    AIㆍ5G 방역로봇  개발   마스크 착용 여부...\n",
              "Name: headline, Length: 120, dtype: object"
            ]
          },
          "metadata": {
            "tags": []
          },
          "execution_count": 35
        }
      ]
    },
    {
      "cell_type": "code",
      "metadata": {
        "id": "MTFyHFTppS00",
        "colab_type": "code",
        "colab": {}
      },
      "source": [
        "# 불용어 제거, 토큰화 진행 --> 띄어쓰기 기준으로 문장 잘라 list에 담기\n",
        "\n",
        "stopwords = ['','함께','하지만','뿐','한','또','수','결국','를','을','등','으로','것','약','가','이','즉','은','될','큰','는','로','및','에','그','곧','기자','chosunbiz','며','우리','com','위해','아니라','고','바','와','과','있다','통해','뒤','해','밖에','대한','보다','하는','위한','등을']\n",
        "\n",
        "X_token = []\n",
        "for stc in times_data['headline']:\n",
        "    token = []\n",
        "    words = stc.split()\n",
        "    for word in words:\n",
        "        if word not in stopwords:\n",
        "            token.append(word)\n",
        "    X_token.append(token)"
      ],
      "execution_count": 36,
      "outputs": []
    },
    {
      "cell_type": "code",
      "metadata": {
        "id": "wdZuRHptGetK",
        "colab_type": "code",
        "colab": {}
      },
      "source": [
        "# token_stc =m.nouns(sentence)\n",
        "empty = []\n",
        "\n",
        "for token_stc in X_token :\n",
        "  encode_stc = tokenizer.texts_to_sequences([token_stc])\n",
        "  pad_stc = pad_sequences(encode_stc, maxlen=500)\n",
        "  score = model.predict(pad_stc)\n",
        "  result_category = category_list[score.argmax()]\n",
        "  result_prob= score[0, score.argmax()] # 확률값 반환\n",
        "  empty.append([result_category, result_prob])"
      ],
      "execution_count": 37,
      "outputs": []
    },
    {
      "cell_type": "code",
      "metadata": {
        "id": "UAdm2rYM9jaq",
        "colab_type": "code",
        "colab": {
          "base_uri": "https://localhost:8080/",
          "height": 402
        },
        "outputId": "86250b0c-0ddf-45b3-ed2e-225527ab7ac1"
      },
      "source": [
        "result=pd.DataFrame(empty,columns=['category','prob'])\n",
        "resultttt=pd.concat([times_data,result],axis=1)\n",
        "\n",
        "resultttt[['title','category','prob']]"
      ],
      "execution_count": 38,
      "outputs": [
        {
          "output_type": "execute_result",
          "data": {
            "text/html": [
              "<div>\n",
              "<style scoped>\n",
              "    .dataframe tbody tr th:only-of-type {\n",
              "        vertical-align: middle;\n",
              "    }\n",
              "\n",
              "    .dataframe tbody tr th {\n",
              "        vertical-align: top;\n",
              "    }\n",
              "\n",
              "    .dataframe thead th {\n",
              "        text-align: right;\n",
              "    }\n",
              "</style>\n",
              "<table border=\"1\" class=\"dataframe\">\n",
              "  <thead>\n",
              "    <tr style=\"text-align: right;\">\n",
              "      <th></th>\n",
              "      <th>title</th>\n",
              "      <th>category</th>\n",
              "      <th>prob</th>\n",
              "    </tr>\n",
              "  </thead>\n",
              "  <tbody>\n",
              "    <tr>\n",
              "      <th>0</th>\n",
              "      <td>엔비디아  ARM 인수  확정  젠슨 황   AI 시대를 위한 결정</td>\n",
              "      <td>공통</td>\n",
              "      <td>0.998753</td>\n",
              "    </tr>\n",
              "    <tr>\n",
              "      <th>1</th>\n",
              "      <td>광주 전남 행정 통합 논의 시동 걸었다</td>\n",
              "      <td>공통</td>\n",
              "      <td>0.998585</td>\n",
              "    </tr>\n",
              "    <tr>\n",
              "      <th>2</th>\n",
              "      <td>Monday News   AI 중심도시 광주  이것이 풀어야 할 과제다 ④ 광주 ...</td>\n",
              "      <td>공통</td>\n",
              "      <td>0.999030</td>\n",
              "    </tr>\n",
              "    <tr>\n",
              "      <th>3</th>\n",
              "      <td>인체에 유해한 전자파  국립전파연구원   팩트체크  자리 마련</td>\n",
              "      <td>공통</td>\n",
              "      <td>0.998203</td>\n",
              "    </tr>\n",
              "    <tr>\n",
              "      <th>4</th>\n",
              "      <td>삼성전기  초소형 파워인덕터 개발 엣지 AI 소형화 가속</td>\n",
              "      <td>기술</td>\n",
              "      <td>0.994530</td>\n",
              "    </tr>\n",
              "    <tr>\n",
              "      <th>...</th>\n",
              "      <td>...</td>\n",
              "      <td>...</td>\n",
              "      <td>...</td>\n",
              "    </tr>\n",
              "    <tr>\n",
              "      <th>115</th>\n",
              "      <td>국내 주도 ICT 보안 표준안 8건  국제 표준  채택</td>\n",
              "      <td>기술</td>\n",
              "      <td>0.898705</td>\n",
              "    </tr>\n",
              "    <tr>\n",
              "      <th>116</th>\n",
              "      <td>로봇견  스폿   코로나19 최전방서 의료진 도와 활약할까</td>\n",
              "      <td>기술</td>\n",
              "      <td>0.837821</td>\n",
              "    </tr>\n",
              "    <tr>\n",
              "      <th>117</th>\n",
              "      <td>산업부  AI 반도체 상용화 위한 기술 개발 추진  미래차ㆍIoT 등에 적용한다</td>\n",
              "      <td>기술</td>\n",
              "      <td>0.897603</td>\n",
              "    </tr>\n",
              "    <tr>\n",
              "      <th>118</th>\n",
              "      <td>한국인공지능학회   2020년 하계학술대회  열어 AI 연구 조망</td>\n",
              "      <td>공통</td>\n",
              "      <td>0.637715</td>\n",
              "    </tr>\n",
              "    <tr>\n",
              "      <th>119</th>\n",
              "      <td>턱스크 잡는다    LG U    AIㆍ5G 방역로봇  개발</td>\n",
              "      <td>공통</td>\n",
              "      <td>0.999390</td>\n",
              "    </tr>\n",
              "  </tbody>\n",
              "</table>\n",
              "<p>120 rows × 3 columns</p>\n",
              "</div>"
            ],
            "text/plain": [
              "                                                 title category      prob\n",
              "0               엔비디아  ARM 인수  확정  젠슨 황   AI 시대를 위한 결정        공통  0.998753\n",
              "1                                광주 전남 행정 통합 논의 시동 걸었다       공통  0.998585\n",
              "2     Monday News   AI 중심도시 광주  이것이 풀어야 할 과제다 ④ 광주 ...       공통  0.999030\n",
              "3                   인체에 유해한 전자파  국립전파연구원   팩트체크  자리 마련       공통  0.998203\n",
              "4                      삼성전기  초소형 파워인덕터 개발 엣지 AI 소형화 가속       기술  0.994530\n",
              "..                                                 ...      ...       ...\n",
              "115                     국내 주도 ICT 보안 표준안 8건  국제 표준  채택       기술  0.898705\n",
              "116                   로봇견  스폿   코로나19 최전방서 의료진 도와 활약할까       기술  0.837821\n",
              "117       산업부  AI 반도체 상용화 위한 기술 개발 추진  미래차ㆍIoT 등에 적용한다       기술  0.897603\n",
              "118               한국인공지능학회   2020년 하계학술대회  열어 AI 연구 조망       공통  0.637715\n",
              "119                  턱스크 잡는다    LG U    AIㆍ5G 방역로봇  개발       공통  0.999390\n",
              "\n",
              "[120 rows x 3 columns]"
            ]
          },
          "metadata": {
            "tags": []
          },
          "execution_count": 38
        }
      ]
    },
    {
      "cell_type": "code",
      "metadata": {
        "id": "F9E7y8nwAwyE",
        "colab_type": "code",
        "colab": {
          "base_uri": "https://localhost:8080/",
          "height": 122
        },
        "outputId": "eb7615f5-c4eb-4890-ec6a-630b84e4e2a6"
      },
      "source": [
        "resultttt.category.value_counts()"
      ],
      "execution_count": 39,
      "outputs": [
        {
          "output_type": "execute_result",
          "data": {
            "text/plain": [
              "공통       89\n",
              "기술       18\n",
              "경제        6\n",
              "문화/예술     4\n",
              "건강        3\n",
              "Name: category, dtype: int64"
            ]
          },
          "metadata": {
            "tags": []
          },
          "execution_count": 39
        }
      ]
    },
    {
      "cell_type": "code",
      "metadata": {
        "id": "rWiwXmvs-WTQ",
        "colab_type": "code",
        "colab": {
          "base_uri": "https://localhost:8080/",
          "height": 166
        },
        "outputId": "87ef5fcf-416e-4869-e379-4d8fc1a2a308"
      },
      "source": [
        "resultttt[resultttt.category == '문화/예술'][['tag','headline','category','prob']].sort_values(['prob'],ascending=False)"
      ],
      "execution_count": 46,
      "outputs": [
        {
          "output_type": "execute_result",
          "data": {
            "text/html": [
              "<div>\n",
              "<style scoped>\n",
              "    .dataframe tbody tr th:only-of-type {\n",
              "        vertical-align: middle;\n",
              "    }\n",
              "\n",
              "    .dataframe tbody tr th {\n",
              "        vertical-align: top;\n",
              "    }\n",
              "\n",
              "    .dataframe thead th {\n",
              "        text-align: right;\n",
              "    }\n",
              "</style>\n",
              "<table border=\"1\" class=\"dataframe\">\n",
              "  <thead>\n",
              "    <tr style=\"text-align: right;\">\n",
              "      <th></th>\n",
              "      <th>tag</th>\n",
              "      <th>headline</th>\n",
              "      <th>category</th>\n",
              "      <th>prob</th>\n",
              "    </tr>\n",
              "  </thead>\n",
              "  <tbody>\n",
              "    <tr>\n",
              "      <th>41</th>\n",
              "      <td>네이버,연세대학교,MOU,협약식,상호협약,SW,HW,온라인협약,교육과정공동개발</td>\n",
              "      <td>네이버 연세대학교  AI 인재 발굴 위한 협력 제휴 네이버 연세대학교 MOU 협약식...</td>\n",
              "      <td>문화/예술</td>\n",
              "      <td>0.838676</td>\n",
              "    </tr>\n",
              "    <tr>\n",
              "      <th>55</th>\n",
              "      <td>NaN</td>\n",
              "      <td>톰 행크스  짐 캐리  린제이 로한 거물급 스타들 총출동한 뮤비 공개    스파이더...</td>\n",
              "      <td>문화/예술</td>\n",
              "      <td>0.752111</td>\n",
              "    </tr>\n",
              "    <tr>\n",
              "      <th>46</th>\n",
              "      <td>NaN</td>\n",
              "      <td>VR 콘텐츠 진화 BCWW에서 확인한다   국내 가상현실  콘텐츠 진화는 어느 단계...</td>\n",
              "      <td>문화/예술</td>\n",
              "      <td>0.669944</td>\n",
              "    </tr>\n",
              "    <tr>\n",
              "      <th>28</th>\n",
              "      <td>NaN</td>\n",
              "      <td>기획  ①코로나 블루 시대 AI음악이 위로한다 안창욱 지스트 교수   인공지능 이...</td>\n",
              "      <td>문화/예술</td>\n",
              "      <td>0.584386</td>\n",
              "    </tr>\n",
              "  </tbody>\n",
              "</table>\n",
              "</div>"
            ],
            "text/plain": [
              "                                            tag  ...      prob\n",
              "41  네이버,연세대학교,MOU,협약식,상호협약,SW,HW,온라인협약,교육과정공동개발  ...  0.838676\n",
              "55                                          NaN  ...  0.752111\n",
              "46                                          NaN  ...  0.669944\n",
              "28                                          NaN  ...  0.584386\n",
              "\n",
              "[4 rows x 4 columns]"
            ]
          },
          "metadata": {
            "tags": []
          },
          "execution_count": 46
        }
      ]
    },
    {
      "cell_type": "code",
      "metadata": {
        "id": "ahQwx7I4AkVm",
        "colab_type": "code",
        "colab": {}
      },
      "source": [
        ""
      ],
      "execution_count": 32,
      "outputs": []
    }
  ]
}